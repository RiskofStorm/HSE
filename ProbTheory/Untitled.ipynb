{
 "cells": [
  {
   "cell_type": "code",
   "execution_count": 20,
   "id": "bb06beaf-76b7-467b-9450-42bc93c63cce",
   "metadata": {
    "tags": []
   },
   "outputs": [],
   "source": [
    "data = '1, 3, 10, 5, 7, 3, 6, 9'"
   ]
  },
  {
   "cell_type": "code",
   "execution_count": 34,
   "id": "141e5fa5-9bb8-4dec-93b4-eff8e8165a57",
   "metadata": {
    "tags": []
   },
   "outputs": [],
   "source": [
    "data = '1, 3, 10, 5, 7, 3, 6, 9'"
   ]
  },
  {
   "cell_type": "code",
   "execution_count": 35,
   "id": "041e35b3-9ccc-4bb9-8c29-b0992d503958",
   "metadata": {
    "tags": []
   },
   "outputs": [],
   "source": [
    "data = list(map(int, data.split(',')))"
   ]
  },
  {
   "cell_type": "code",
   "execution_count": 22,
   "id": "52ee0ad3-9ca3-4feb-86c7-5ddb3f5c69e8",
   "metadata": {
    "tags": []
   },
   "outputs": [],
   "source": [
    "import numpy as np"
   ]
  },
  {
   "cell_type": "code",
   "execution_count": 23,
   "id": "d1e64135-aca4-4074-a0e7-cccfedf6a5c0",
   "metadata": {
    "tags": []
   },
   "outputs": [],
   "source": [
    "mean = np.mean(data)\n",
    "df = len(data) -1"
   ]
  },
  {
   "cell_type": "code",
   "execution_count": 24,
   "id": "3b8a06a1-b86c-4d23-a9e1-0c9eb1a20d42",
   "metadata": {
    "tags": []
   },
   "outputs": [
    {
     "data": {
      "text/plain": [
       "2.9154759474226504"
      ]
     },
     "execution_count": 24,
     "metadata": {},
     "output_type": "execute_result"
    }
   ],
   "source": [
    "np.std(data)"
   ]
  },
  {
   "cell_type": "code",
   "execution_count": 25,
   "id": "dea0ac60-4edd-476d-8ad7-57dc2d384f32",
   "metadata": {
    "tags": []
   },
   "outputs": [
    {
     "name": "stderr",
     "output_type": "stream",
     "text": [
      "<>:1: SyntaxWarning: invalid decimal literal\n",
      "<>:1: SyntaxWarning: invalid decimal literal\n",
      "C:\\Users\\Winter\\AppData\\Local\\Temp\\ipykernel_3196\\229526627.py:1: SyntaxWarning: invalid decimal literal\n",
      "  data_d = sum([(n-mean)**2for n in data])/df\n"
     ]
    }
   ],
   "source": [
    "data_d = sum([(n-mean)**2for n in data])/df "
   ]
  },
  {
   "cell_type": "code",
   "execution_count": 27,
   "id": "eff8f972-4b5a-40cf-b7e0-92b44cee0495",
   "metadata": {
    "tags": []
   },
   "outputs": [
    {
     "data": {
      "text/plain": [
       "9.71"
      ]
     },
     "execution_count": 27,
     "metadata": {},
     "output_type": "execute_result"
    }
   ],
   "source": [
    "round(data_d,2)"
   ]
  },
  {
   "cell_type": "code",
   "execution_count": 28,
   "id": "20f949f7-7934-4d1c-b379-3ded4dd753d3",
   "metadata": {
    "tags": []
   },
   "outputs": [
    {
     "data": {
      "text/plain": [
       "5.5"
      ]
     },
     "execution_count": 28,
     "metadata": {},
     "output_type": "execute_result"
    }
   ],
   "source": [
    "np.median(data)"
   ]
  },
  {
   "cell_type": "code",
   "execution_count": 32,
   "id": "6e4cb170-6dd9-40ec-8d3a-7459833fc16d",
   "metadata": {
    "tags": []
   },
   "outputs": [
    {
     "data": {
      "text/plain": [
       "ModeResult(mode=3, count=2)"
      ]
     },
     "execution_count": 32,
     "metadata": {},
     "output_type": "execute_result"
    }
   ],
   "source": [
    "from scipy import stats\n",
    "stats.mode(np.array(data))"
   ]
  },
  {
   "cell_type": "code",
   "execution_count": 36,
   "id": "3d4f8cdd-55cc-4c99-9fef-0edcc92debd6",
   "metadata": {
    "tags": []
   },
   "outputs": [
    {
     "data": {
      "text/plain": [
       "4.5"
      ]
     },
     "execution_count": 36,
     "metadata": {},
     "output_type": "execute_result"
    }
   ],
   "source": [
    "# интерквартильный размах\n",
    "stats.iqr(data)"
   ]
  },
  {
   "cell_type": "markdown",
   "id": "1af61fac-7043-4c68-9000-2cf58c04a38b",
   "metadata": {
    "tags": []
   },
   "source": [
    "#### При каком значении С следующая оценка является несмещенной?\n",
    " mu=X1+0.9X2+0.8X3+0.7*X4+СX5"
   ]
  },
  {
   "cell_type": "code",
   "execution_count": 39,
   "id": "762c6ae8-ae81-4690-9ad4-2afae8f7b006",
   "metadata": {
    "tags": []
   },
   "outputs": [
    {
     "data": {
      "text/plain": [
       "2.4000000000000004"
      ]
     },
     "execution_count": 39,
     "metadata": {},
     "output_type": "execute_result"
    }
   ],
   "source": [
    "0.9 + 0.8 + 0.7"
   ]
  },
  {
   "cell_type": "code",
   "execution_count": 42,
   "id": "264401c9-190e-4170-9487-921f6bb75511",
   "metadata": {
    "tags": []
   },
   "outputs": [
    {
     "data": {
      "text/plain": [
       "4.5"
      ]
     },
     "execution_count": 42,
     "metadata": {},
     "output_type": "execute_result"
    }
   ],
   "source": [
    "(1+2+0)**2/2"
   ]
  },
  {
   "cell_type": "code",
   "execution_count": 59,
   "id": "de577bbe-4091-4f7c-8346-f90325f5967c",
   "metadata": {
    "tags": []
   },
   "outputs": [],
   "source": [
    "data_d = sum([(n-2)**2 for n in [1,2,0]])/2"
   ]
  },
  {
   "cell_type": "code",
   "execution_count": 60,
   "id": "801d8677-9ac7-4064-8fa0-3589e0cf7352",
   "metadata": {
    "tags": []
   },
   "outputs": [
    {
     "data": {
      "text/plain": [
       "1.5811388300841898"
      ]
     },
     "execution_count": 60,
     "metadata": {},
     "output_type": "execute_result"
    }
   ],
   "source": [
    "np.sqrt(data_d)"
   ]
  },
  {
   "cell_type": "code",
   "execution_count": 61,
   "id": "c13f29af-82b2-4a7f-820d-a6332e487ec5",
   "metadata": {
    "tags": []
   },
   "outputs": [
    {
     "data": {
      "text/plain": [
       "2.5"
      ]
     },
     "execution_count": 61,
     "metadata": {},
     "output_type": "execute_result"
    }
   ],
   "source": [
    "data_d"
   ]
  },
  {
   "cell_type": "markdown",
   "id": "40ffc313-49f4-4f92-b6e9-c5998f8629d5",
   "metadata": {},
   "source": [
    "Студенты трех групп сдают экзамен, причем все работы они пишут независимо друг от друга. Вероятность получения отличной оценки для всех одинакова и равна p. В первой группе было получено 5 отличных оценок из 12, во второй 4 из 12, в третьей - 4 из 15. Методом наибольшего правдоподобия оцените p.\n",
    "\n",
    "В ответе округлите полученное значение до двух знаков после запятой.\n",
    "\n"
   ]
  },
  {
   "cell_type": "code",
   "execution_count": 62,
   "id": "6f43be5e-02f7-4941-b11f-43a1d93957f9",
   "metadata": {
    "tags": []
   },
   "outputs": [],
   "source": [
    "f = 5/12\n",
    "s = 4/12\n",
    "t = 4/15"
   ]
  },
  {
   "cell_type": "code",
   "execution_count": 68,
   "id": "308a4bb5-8fc0-4465-b97c-96fda13269a1",
   "metadata": {
    "tags": []
   },
   "outputs": [
    {
     "data": {
      "text/plain": [
       "0.34"
      ]
     },
     "execution_count": 68,
     "metadata": {},
     "output_type": "execute_result"
    }
   ],
   "source": [
    "round(sum([f,s,t])/3, 2)"
   ]
  },
  {
   "cell_type": "code",
   "execution_count": null,
   "id": "438c1996-d0ab-4580-b1e4-4d4e12e87d62",
   "metadata": {},
   "outputs": [],
   "source": []
  }
 ],
 "metadata": {
  "kernelspec": {
   "display_name": "Python 3 (ipykernel)",
   "language": "python",
   "name": "python3"
  },
  "language_info": {
   "codemirror_mode": {
    "name": "ipython",
    "version": 3
   },
   "file_extension": ".py",
   "mimetype": "text/x-python",
   "name": "python",
   "nbconvert_exporter": "python",
   "pygments_lexer": "ipython3",
   "version": "3.11.5"
  }
 },
 "nbformat": 4,
 "nbformat_minor": 5
}
