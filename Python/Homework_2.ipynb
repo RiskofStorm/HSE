{
 "cells": [
  {
   "cell_type": "markdown",
   "id": "feaa71be-da14-4bd2-965d-e00093d43f3a",
   "metadata": {},
   "source": [
    "# Задание 1\n",
    "\n",
    "Написать код на Python в среде Jupyter Notebook для решения следующей задачи.\n",
    "Дана переменная, в которой хранится слово из латинских букв. Напишите код,\n",
    "который выводит на экран:\n",
    "* среднюю букву, если число букв в слове нечётное;\n",
    "* две средних буквы, если число букв чётное.\n",
    "\n",
    "#### Пример работы программы:  \n",
    "1. word = &apos;test&apos;\n",
    "> Результат: es  \n",
    "2. word = &apos;testing&apos; \n",
    "> Результат: t  \n"
   ]
  },
  {
   "cell_type": "code",
   "execution_count": 64,
   "id": "75df12f2-ff7c-46c5-b8e2-24dba694106e",
   "metadata": {
    "tags": []
   },
   "outputs": [],
   "source": [
    "def odd_even_str(row:str) -> None:\n",
    "    _len_row = len(row)\n",
    "    _mid = _len_row // 2\n",
    "    if _len_row % 2 == 0:\n",
    "        print(row[_mid - 1: _mid + 1])\n",
    "    else:\n",
    "        print(row[_mid])"
   ]
  },
  {
   "cell_type": "code",
   "execution_count": 65,
   "id": "97ac2a7e-8bbf-4950-aea0-08db355563e8",
   "metadata": {
    "tags": []
   },
   "outputs": [
    {
     "name": "stdout",
     "output_type": "stream",
     "text": [
      "t\n"
     ]
    }
   ],
   "source": [
    "odd_even_str('testing')"
   ]
  },
  {
   "cell_type": "code",
   "execution_count": 66,
   "id": "542f79bb-6723-4a6d-9306-52d4a92ab083",
   "metadata": {
    "tags": []
   },
   "outputs": [
    {
     "name": "stdout",
     "output_type": "stream",
     "text": [
      "es\n"
     ]
    }
   ],
   "source": [
    "odd_even_str('test')"
   ]
  },
  {
   "cell_type": "code",
   "execution_count": 69,
   "id": "7597d66e-5630-4ce8-815c-f11f54376973",
   "metadata": {
    "tags": []
   },
   "outputs": [
    {
     "name": "stdout",
     "output_type": "stream",
     "text": [
      "-*-*-*-*-*-*-*-*-*-*\n",
      "t\n",
      "testing: len 7\n",
      "-*-*-*-*-*-*-*-*-*-*\n",
      "es\n",
      "test: len 4\n",
      "-*-*-*-*-*-*-*-*-*-*\n",
      "en\n",
      "sciencef: len 8\n",
      "-*-*-*-*-*-*-*-*-*-*\n",
      "d\n",
      "d: len 1\n",
      "-*-*-*-*-*-*-*-*-*-*\n",
      "d\n",
      "abcdefg: len 7\n",
      "-*-*-*-*-*-*-*-*-*-*\n",
      "rw\n",
      "outerwilds: len 10\n",
      "-*-*-*-*-*-*-*-*-*-*\n",
      "ie\n",
      "datascienceftw: len 14\n"
     ]
    }
   ],
   "source": [
    "# more_tests\n",
    "test_data = ['testing', 'test', 'sciencef', 'd', 'abcdefg', 'outerwilds', 'datascienceftw']\n",
    "\n",
    "for s in test_data:\n",
    "    print('-*' * 10)\n",
    "    odd_even_str(s)\n",
    "    print(f'{s}: len {len(s)}')"
   ]
  },
  {
   "cell_type": "markdown",
   "id": "e65dd00e-4919-465c-85b3-f4e7995d9149",
   "metadata": {},
   "source": [
    "# Задание 2 (необязательное)  \n",
    "Написать код на Python в среде Jupyter Notebook для решения следующей задачи.  \n",
    "Вы делаете MVP (минимально жизнеспособный продукт) dating-сервиса.  \n",
    "У вас есть список юношей и девушек.  \n",
    "Выдвигаем гипотезу: лучшие рекомендации получатся, если просто отсортировать  \n",
    "имена по алфавиту и познакомить людей с одинаковыми индексами после  \n",
    "сортировки. Но вы не будете никого знакомить, если кто-то может остаться без  \n",
    "пары.  \n",
    "  \n",
    "#### Примеры работы программы:  \n",
    "boys = [&apos;Peter&apos;, &apos;Alex&apos;, &apos;John&apos;, &apos;Arthur&apos;, &apos;Richard&apos;]  \n",
    "girls = [&apos;Kate&apos;, &apos;Liza&apos;, &apos;Kira&apos;, &apos;Emma&apos;, &apos;Trisha&apos;]  \n",
    "  \n",
    "> Результат:  \n",
    "Идеальные пары:  \n",
    "Alex и Emma  \n",
    "Arthur и Kate  \n",
    "John и Kira  \n",
    "Peter и Liza  \n",
    "Richard и Trisha  \n",
    "  \n",
    "  \n",
    "boys = [&apos;Peter&apos;, &apos;Alex&apos;, &apos;John&apos;, &apos;Arthur&apos;,&apos;Richard&apos;, &apos;Michael&apos;]  \n",
    "girls = [&apos;Kate&apos;, &apos;Liza&apos;, &apos;Kira&apos;, &apos;Emma&apos;,&apos;Trisha&apos;]  \n",
    "  \n",
    "> Результат: Внимание, кто-то может остаться без пары!  "
   ]
  },
  {
   "cell_type": "code",
   "execution_count": 22,
   "id": "a4d17058-e70b-469e-b34b-3c75672689fe",
   "metadata": {
    "tags": []
   },
   "outputs": [],
   "source": [
    "import json\n",
    "\n",
    "# task 2\n",
    "def html_to_list(data:str, rep_str:str='', replacement:str='') -> list:\n",
    "    return json.loads(data.replace(rep_str, replacement))\n",
    "\n",
    "def dating_sim(boys:str, girls:str) -> None:\n",
    "    boys = sorted(html_to_list(boys, '&apos;','\"'))\n",
    "    girls = sorted(html_to_list(girls, '&apos;', '\"'))\n",
    "    \n",
    "    if len(boys) != len(girls):\n",
    "        print('Внимание, кто-то может остаться без пары!')\n",
    "        return\n",
    "    print('Идеальные пары:')\n",
    "    # for boy, girl in zip(boys, girls):\n",
    "    for i in range(len(boys)):\n",
    "        print(f'{boys[i]} и {girls[i]}')"
   ]
  },
  {
   "cell_type": "code",
   "execution_count": 20,
   "id": "d83c67cb-5a00-4932-9ad1-a1f54ccb06e2",
   "metadata": {
    "tags": []
   },
   "outputs": [
    {
     "name": "stdout",
     "output_type": "stream",
     "text": [
      "Идеальные пары:\n",
      "Alex и Emma\n",
      "Arthur и Kate\n",
      "John и Kira\n",
      "Peter и Liza\n",
      "Richard и Trisha\n"
     ]
    }
   ],
   "source": [
    "# test 1\n",
    "boys = '[&apos;Peter&apos;, &apos;Alex&apos;, &apos;John&apos;, &apos;Arthur&apos;,&apos;Richard&apos;]'\n",
    "girls = '[&apos;Kate&apos;, &apos;Liza&apos;, &apos;Kira&apos;, &apos;Emma&apos;, &apos;Trisha&apos;]'\n",
    "\n",
    "dating_sim(boys, girls)"
   ]
  },
  {
   "cell_type": "code",
   "execution_count": 21,
   "id": "e2f4ca1d-62df-4ee9-9697-f32b1399ecea",
   "metadata": {
    "tags": []
   },
   "outputs": [
    {
     "name": "stdout",
     "output_type": "stream",
     "text": [
      "Внимание, кто-то может остаться без пары!\n"
     ]
    }
   ],
   "source": [
    "# test 2\n",
    "boys_2 = '[&apos;Peter&apos;, &apos;Alex&apos;, &apos;John&apos;, &apos;Arthur&apos;,&apos;Richard&apos;, &apos;Michael&apos;]'\n",
    "girls_2 = '[&apos;Kate&apos;, &apos;Liza&apos;, &apos;Kira&apos;, &apos;Emma&apos;,&apos;Trisha&apos;]'\n",
    "\n",
    "dating_sim(boys_2, girls_2)"
   ]
  }
 ],
 "metadata": {
  "kernelspec": {
   "display_name": "Python 3 (ipykernel)",
   "language": "python",
   "name": "python3"
  },
  "language_info": {
   "codemirror_mode": {
    "name": "ipython",
    "version": 3
   },
   "file_extension": ".py",
   "mimetype": "text/x-python",
   "name": "python",
   "nbconvert_exporter": "python",
   "pygments_lexer": "ipython3",
   "version": "3.11.5"
  }
 },
 "nbformat": 4,
 "nbformat_minor": 5
}
