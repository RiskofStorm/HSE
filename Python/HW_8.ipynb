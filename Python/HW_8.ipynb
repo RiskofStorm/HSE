{
 "cells": [
  {
   "cell_type": "code",
   "execution_count": 2,
   "id": "dc768b50-0a65-4bce-a4d2-ea4fe2c15fea",
   "metadata": {
    "tags": []
   },
   "outputs": [],
   "source": [
    "import pandas as pd\n",
    "import numpy as np\n",
    "import seaborn as sns\n",
    "import  matplotlib.pyplot as plt \n",
    "from pathlib import Path\n",
    "\n",
    "# sns.color_palette(\"colorblind\")\n",
    "# sns.set_palette(sns.color_palette(\"colorblind\"))\n",
    "sns.set_palette(sns.color_palette(\"muted\"))\n",
    "\n",
    "pd.set_option('display.max_columns', None)"
   ]
  },
  {
   "cell_type": "code",
   "execution_count": 12,
   "id": "9c0fd7c5-532c-4dc8-849b-efc73e0cd969",
   "metadata": {},
   "outputs": [],
   "source": [
    "city_w = pd.read_csv('./datasets/hw_8/city_weather.csv')\n",
    "district_to_city = pd.read_csv('./datasets/hw_8/district_to_city.csv')"
   ]
  },
  {
   "cell_type": "code",
   "execution_count": 48,
   "id": "9e18e33b-23df-4017-8b1f-0ce62c7841a7",
   "metadata": {},
   "outputs": [
    {
     "data": {
      "text/html": [
       "<div>\n",
       "<style scoped>\n",
       "    .dataframe tbody tr th:only-of-type {\n",
       "        vertical-align: middle;\n",
       "    }\n",
       "\n",
       "    .dataframe tbody tr th {\n",
       "        vertical-align: top;\n",
       "    }\n",
       "\n",
       "    .dataframe thead th {\n",
       "        text-align: right;\n",
       "    }\n",
       "</style>\n",
       "<table border=\"1\" class=\"dataframe\">\n",
       "  <thead>\n",
       "    <tr style=\"text-align: right;\">\n",
       "      <th></th>\n",
       "      <th>day_temperatre</th>\n",
       "      <th>night_temperature</th>\n",
       "    </tr>\n",
       "  </thead>\n",
       "  <tbody>\n",
       "    <tr>\n",
       "      <th>count</th>\n",
       "      <td>2166.000000</td>\n",
       "      <td>2166.000000</td>\n",
       "    </tr>\n",
       "    <tr>\n",
       "      <th>mean</th>\n",
       "      <td>5.107664</td>\n",
       "      <td>-4.294645</td>\n",
       "    </tr>\n",
       "    <tr>\n",
       "      <th>std</th>\n",
       "      <td>6.674888</td>\n",
       "      <td>7.335564</td>\n",
       "    </tr>\n",
       "    <tr>\n",
       "      <th>min</th>\n",
       "      <td>-25.000000</td>\n",
       "      <td>-35.000000</td>\n",
       "    </tr>\n",
       "    <tr>\n",
       "      <th>25%</th>\n",
       "      <td>1.025000</td>\n",
       "      <td>-7.300000</td>\n",
       "    </tr>\n",
       "    <tr>\n",
       "      <th>50%</th>\n",
       "      <td>4.500000</td>\n",
       "      <td>-3.000000</td>\n",
       "    </tr>\n",
       "    <tr>\n",
       "      <th>75%</th>\n",
       "      <td>9.100000</td>\n",
       "      <td>0.900000</td>\n",
       "    </tr>\n",
       "    <tr>\n",
       "      <th>max</th>\n",
       "      <td>26.500000</td>\n",
       "      <td>11.900000</td>\n",
       "    </tr>\n",
       "  </tbody>\n",
       "</table>\n",
       "</div>"
      ],
      "text/plain": [
       "       day_temperatre  night_temperature\n",
       "count     2166.000000        2166.000000\n",
       "mean         5.107664          -4.294645\n",
       "std          6.674888           7.335564\n",
       "min        -25.000000         -35.000000\n",
       "25%          1.025000          -7.300000\n",
       "50%          4.500000          -3.000000\n",
       "75%          9.100000           0.900000\n",
       "max         26.500000          11.900000"
      ]
     },
     "execution_count": 48,
     "metadata": {},
     "output_type": "execute_result"
    }
   ],
   "source": [
    "city_w.describe()"
   ]
  },
  {
   "cell_type": "code",
   "execution_count": null,
   "id": "642116f8-7a8a-4741-acab-5ded45087dd6",
   "metadata": {},
   "outputs": [],
   "source": []
  },
  {
   "cell_type": "code",
   "execution_count": 80,
   "id": "3883c1aa-b723-4b29-9ebc-1390c38af1a4",
   "metadata": {},
   "outputs": [],
   "source": [
    "city_district = dict()"
   ]
  },
  {
   "cell_type": "code",
   "execution_count": 82,
   "id": "222e38ee-c3ca-4cc5-924e-0b461d862c2b",
   "metadata": {},
   "outputs": [],
   "source": [
    "for k,v in district_to_city.set_index('city').to_dict()['federal_district'].items():\n",
    "    k,v = k.lower(), v.lower()\n",
    "    if v in city_district.keys():\n",
    "        city_district[v].append(k)\n",
    "    else:\n",
    "        city_district[v] = []"
   ]
  },
  {
   "cell_type": "code",
   "execution_count": 84,
   "id": "b2ac53b3-54ac-4215-9ee7-c5bb2bada25a",
   "metadata": {},
   "outputs": [
    {
     "data": {
      "text/plain": [
       "{'центральный  фо': ['брянск',\n",
       "  'владимир',\n",
       "  'воронеж',\n",
       "  'иваново',\n",
       "  'калуга',\n",
       "  'кострома',\n",
       "  'курск',\n",
       "  'липецк',\n",
       "  'москва',\n",
       "  'орел',\n",
       "  'рязань',\n",
       "  'смоленск',\n",
       "  'тамбов',\n",
       "  'тверь',\n",
       "  'тула',\n",
       "  'ярославль'],\n",
       " 'северо-западный фо': ['вологда',\n",
       "  'калининград',\n",
       "  'петрозаводск',\n",
       "  'сыктывкар',\n",
       "  'санкт-петербург',\n",
       "  'мурманск',\n",
       "  'великий новгород',\n",
       "  'псков'],\n",
       " 'уральский фо': ['курган',\n",
       "  'екатеринбург',\n",
       "  'тюмень',\n",
       "  'ханты-мансийск',\n",
       "  'челябинск'],\n",
       " 'приволжский фо': ['киров',\n",
       "  'йошкар-ола',\n",
       "  'саранск',\n",
       "  'нижний новгород',\n",
       "  'оренбург',\n",
       "  'пенза',\n",
       "  'пермь',\n",
       "  'самара',\n",
       "  'саратов',\n",
       "  'казань',\n",
       "  'ижевск',\n",
       "  'ульяновск',\n",
       "  'чебоксары'],\n",
       " 'сибирский фо': ['барнаул',\n",
       "  'улан-удэ',\n",
       "  'чита',\n",
       "  'иркутск',\n",
       "  'кемерово',\n",
       "  'красноярск',\n",
       "  'новосибирск',\n",
       "  'омск',\n",
       "  'томск',\n",
       "  'кызыл',\n",
       "  'абакан'],\n",
       " 'дальневосточный фо': ['биробиджан',\n",
       "  'петропавловск-камчатский',\n",
       "  'магадан',\n",
       "  'владивосток',\n",
       "  'якутск',\n",
       "  'южно-сахалинск',\n",
       "  'хабаровск',\n",
       "  'анадырь'],\n",
       " 'южный фо': ['астрахань', 'волгоград', 'элиста', 'краснодар', 'ростов'],\n",
       " 'северо-кавказский фо': ['магас',\n",
       "  'нальчик',\n",
       "  'черкесск',\n",
       "  'владикавказ',\n",
       "  'ставрополь',\n",
       "  'грозный']}"
      ]
     },
     "execution_count": 84,
     "metadata": {},
     "output_type": "execute_result"
    }
   ],
   "source": [
    "city_district"
   ]
  },
  {
   "cell_type": "code",
   "execution_count": 86,
   "id": "68ce5d24-21af-4ad3-b807-8761eac659b4",
   "metadata": {},
   "outputs": [],
   "source": [
    "cities_list = list()\n",
    "for v in city_district.values():\n",
    "    cities_list.extend(v)"
   ]
  },
  {
   "cell_type": "markdown",
   "id": "19369e8c-ea91-444d-a410-5d3d3071181e",
   "metadata": {},
   "source": [
    "### С помощью подхода MapReduce посчитайте  \n",
    "#### 1.  среднюю погоду по каждому городу за представленный период;"
   ]
  },
  {
   "cell_type": "code",
   "execution_count": 169,
   "id": "35f0657e-9d53-45a0-af9f-9fd4bbaa210c",
   "metadata": {},
   "outputs": [],
   "source": [
    "# c_temp = {v:[] for v in cities_list}\n",
    "c_temp = dict()"
   ]
  },
  {
   "cell_type": "markdown",
   "id": "d25c0ab3-3c49-4f52-b4a8-a5e4f9c8a998",
   "metadata": {},
   "source": [
    "#### Mapper \n",
    "я не стал записывать в csv - по сути словарь с массивами те же агрегации, делить csv на подтаски и запускать батчами?   \n",
    "заморочусь в следующий раз) у меня дедлайн) "
   ]
  },
  {
   "cell_type": "code",
   "execution_count": 172,
   "id": "cd94767c-21ac-4b13-85e3-54eb9d21be66",
   "metadata": {},
   "outputs": [],
   "source": [
    "with open('./datasets/hw_8/city_weather.csv', encoding='utf-8') as cfile:\n",
    "    for i,line in enumerate(cfile):\n",
    "        if i == 0:\n",
    "            continue\n",
    "        city, _, day_t, night_t = map(str.lower, line.strip().split(','))\n",
    "        if city in c_temp.keys():\n",
    "            c_temp[city].append((float(day_t) + float(night_t))/2)\n",
    "        else:\n",
    "            c_temp[city] = [(float(day_t) + float(night_t))/2]"
   ]
  },
  {
   "cell_type": "markdown",
   "id": "639f4bad-9589-48ba-a4ef-a0ea62d56f2f",
   "metadata": {},
   "source": [
    "#### Shuffle -  пропускаем, у нас нету нод\n",
    "#### Reducer"
   ]
  },
  {
   "cell_type": "code",
   "execution_count": 183,
   "id": "7c596c88-72cd-4f82-9d2d-97e03c8b1bb3",
   "metadata": {},
   "outputs": [],
   "source": [
    "# c_temp_reduced = {v:{'cnt': 0, 'temp':0} for v in cities_list}\n",
    "c_temp_reduced = dict()"
   ]
  },
  {
   "cell_type": "code",
   "execution_count": 185,
   "id": "7943cb86-f6d7-4309-84b0-a912292faf99",
   "metadata": {},
   "outputs": [],
   "source": [
    "for city, temp_list in c_temp.items():\n",
    "    for temp in temp_list:\n",
    "        if city in c_temp_reduced.keys():\n",
    "            c_temp_reduced[city]['cnt'] += 1\n",
    "            c_temp_reduced[city]['temp'] += temp\n",
    "        else:\n",
    "            c_temp_reduced[city] = {'cnt': 1, 'temp': temp}"
   ]
  },
  {
   "cell_type": "code",
   "execution_count": 243,
   "id": "820e4044-e68c-46b7-bf64-79f7263c1113",
   "metadata": {},
   "outputs": [],
   "source": [
    "c_temp_reduced_final = dict()"
   ]
  },
  {
   "cell_type": "code",
   "execution_count": 245,
   "id": "52d86d9f-21b0-44d8-9698-9b161edd8167",
   "metadata": {},
   "outputs": [
    {
     "data": {
      "text/plain": [
       "{'оренбург': 0.42,\n",
       " 'липецк': 4.3,\n",
       " 'челябинск': 0.84,\n",
       " 'томск': -3.71,\n",
       " 'ханты-мансийск': -2.99,\n",
       " 'курган': 0.3,\n",
       " 'казань': 1.97,\n",
       " 'киров': 0.14,\n",
       " 'тула': 3.7,\n",
       " 'ижевск': 0.48,\n",
       " 'ставрополь': 6.91,\n",
       " 'брянск': 4.58,\n",
       " 'кемерово': -3.92,\n",
       " 'псков': 2.5,\n",
       " 'петрозаводск': -0.13,\n",
       " 'йошкар-ола': 2.26,\n",
       " 'улан-удэ': -5.01,\n",
       " 'иркутск': -3.39,\n",
       " 'калининград': 4.44,\n",
       " 'мурманск': -5.76,\n",
       " 'иваново': 1.94,\n",
       " 'омск': -2.49,\n",
       " 'майкоп': 9.46,\n",
       " 'волгоград': 5.5,\n",
       " 'архангельск': -2.75,\n",
       " 'нальчик': 6.95,\n",
       " 'салехард': -8.35,\n",
       " 'санкт-петербург': 1.66,\n",
       " 'чебоксары': 2.05,\n",
       " 'орел': 4.44,\n",
       " 'элиста': 7.2,\n",
       " 'уфа': -0.11,\n",
       " 'благовещенск': -4.45,\n",
       " 'сыктывкар': -1.92,\n",
       " 'краснодар': 9.1,\n",
       " 'ростов': 2.09,\n",
       " 'самара': 2.36,\n",
       " 'биробиджан': -2.78,\n",
       " 'вологда': 0.22,\n",
       " 'анадырь': -12.63,\n",
       " 'владимир': 2.5,\n",
       " 'грозный': 7.71,\n",
       " 'петропавловск-камчатский': -2.34,\n",
       " 'нижний новгород': 2.55,\n",
       " 'якутск': -17.18,\n",
       " 'кызыл': -8.55,\n",
       " 'кострома': 1.6,\n",
       " 'тамбов': 4.42,\n",
       " 'саранск': 2.89,\n",
       " 'екатеринбург': -0.12,\n",
       " 'рязань': 3.99,\n",
       " 'хабаровск': -1.53,\n",
       " 'махачкала': 7.7,\n",
       " 'магадан': -12.83,\n",
       " 'абакан': -1.65,\n",
       " 'пенза': 3.46,\n",
       " 'астрахань': 7.82,\n",
       " 'пермь': -0.16,\n",
       " 'воронеж': 5.83,\n",
       " 'чита': -6.01,\n",
       " 'курск': 5.19,\n",
       " 'смоленск': 3.16,\n",
       " 'южно-сахалинск': -3.62,\n",
       " 'москва': 3.72,\n",
       " 'тверь': 2.58,\n",
       " 'тюмень': 0.22,\n",
       " 'великий новгород': 1.95,\n",
       " 'новосибирск': -4.1,\n",
       " 'калуга': 3.48,\n",
       " 'владивосток': -0.0,\n",
       " 'барнаул': -3.83,\n",
       " 'владикавказ': 5.94}"
      ]
     },
     "execution_count": 245,
     "metadata": {},
     "output_type": "execute_result"
    }
   ],
   "source": [
    "for city, payload in c_temp_reduced.items():\n",
    "    c_temp_reduced_final[city] = round(payload['temp']/ payload['cnt'], 2)\n",
    "c_temp_reduced_final"
   ]
  },
  {
   "cell_type": "markdown",
   "id": "d4f33dc6-0668-4e22-a756-7db86985143e",
   "metadata": {},
   "source": [
    "### С помощью подхода MapReduce посчитайте  \n",
    "#### 2. среднюю температуру по федеральному округу;\n",
    "\n",
    "все те же шаги что и в 1ом + поитерируемся по словарю <b> city_district</b> для определения фед.округа города"
   ]
  },
  {
   "cell_type": "code",
   "execution_count": 289,
   "id": "0df7a31b-75d3-4caa-a4a2-e8c26e233f5d",
   "metadata": {},
   "outputs": [
    {
     "data": {
      "text/plain": [
       "{'центральный  фо': {'cnt': 0, 'temp': 0},\n",
       " 'северо-западный фо': {'cnt': 0, 'temp': 0},\n",
       " 'уральский фо': {'cnt': 0, 'temp': 0},\n",
       " 'приволжский фо': {'cnt': 0, 'temp': 0},\n",
       " 'сибирский фо': {'cnt': 0, 'temp': 0},\n",
       " 'дальневосточный фо': {'cnt': 0, 'temp': 0},\n",
       " 'южный фо': {'cnt': 0, 'temp': 0},\n",
       " 'северо-кавказский фо': {'cnt': 0, 'temp': 0}}"
      ]
     },
     "execution_count": 289,
     "metadata": {},
     "output_type": "execute_result"
    }
   ],
   "source": [
    "city_district_temp = {k:{'cnt':0, 'temp':0} for k in city_district.keys()}\n",
    "city_district_temp"
   ]
  },
  {
   "cell_type": "code",
   "execution_count": 291,
   "id": "def8499e-3237-4ab9-b6ce-58c4bf7ce978",
   "metadata": {},
   "outputs": [],
   "source": [
    "for city, temp in c_temp_reduced_final.items():\n",
    "    for district, cities in city_district.items():\n",
    "        if city in cities:\n",
    "            city_district_temp[district]['cnt'] += 1\n",
    "            city_district_temp[district]['temp'] += temp"
   ]
  },
  {
   "cell_type": "code",
   "execution_count": 293,
   "id": "f2037acc-876c-4a2e-878f-4727b871b222",
   "metadata": {},
   "outputs": [
    {
     "data": {
      "text/plain": [
       "{'центральный  фо': {'cnt': 15, 'temp': 55.43},\n",
       " 'северо-западный фо': {'cnt': 8, 'temp': 2.960000000000001},\n",
       " 'уральский фо': {'cnt': 5, 'temp': -1.7500000000000002},\n",
       " 'приволжский фо': {'cnt': 11, 'temp': 18.42},\n",
       " 'сибирский фо': {'cnt': 10, 'temp': -42.660000000000004},\n",
       " 'дальневосточный фо': {'cnt': 8, 'temp': -52.91},\n",
       " 'южный фо': {'cnt': 5, 'temp': 31.709999999999997},\n",
       " 'северо-кавказский фо': {'cnt': 4, 'temp': 27.51}}"
      ]
     },
     "execution_count": 293,
     "metadata": {},
     "output_type": "execute_result"
    }
   ],
   "source": [
    "city_district_temp_final = dict()\n",
    "city_district_temp"
   ]
  },
  {
   "cell_type": "code",
   "execution_count": 297,
   "id": "cfefc7c6-3ebd-4fec-822a-db45b48d2c2b",
   "metadata": {},
   "outputs": [
    {
     "data": {
      "text/plain": [
       "{'центральный  фо': 3.7,\n",
       " 'северо-западный фо': 0.37,\n",
       " 'уральский фо': -0.35,\n",
       " 'приволжский фо': 1.67,\n",
       " 'сибирский фо': -4.27,\n",
       " 'дальневосточный фо': -6.61,\n",
       " 'южный фо': 6.34,\n",
       " 'северо-кавказский фо': 6.88}"
      ]
     },
     "execution_count": 297,
     "metadata": {},
     "output_type": "execute_result"
    }
   ],
   "source": [
    "for dist, payload in city_district_temp.items():\n",
    "    city_district_temp_final[dist] = round(payload['temp']/ payload['cnt'], 2)\n",
    "city_district_temp_final"
   ]
  },
  {
   "cell_type": "markdown",
   "id": "f67743aa-4d1f-4c34-a28a-6216dded77b1",
   "metadata": {},
   "source": [
    "### С помощью подхода MapReduce посчитайте  \n",
    "#### 3. среднюю погоду по каждому городу за представленный период;\n",
    "\n",
    "Аналогично, чтобы сэкономить время, пропускаем map, shuffle"
   ]
  },
  {
   "cell_type": "code",
   "execution_count": 299,
   "id": "b1f8e67a-d723-4e8d-ac24-96fbb8875bfb",
   "metadata": {},
   "outputs": [],
   "source": [
    "c_temp_diff = dict()"
   ]
  },
  {
   "cell_type": "code",
   "execution_count": 309,
   "id": "84d828eb-d5d6-450e-be86-73c235c0167b",
   "metadata": {},
   "outputs": [],
   "source": [
    "for city, temp in c_temp_reduced_final.items():\n",
    "    for district, cities in city_district.items():\n",
    "        if city in cities:\n",
    "            c_temp_diff[city] = round(abs(city_district_temp_final[district] - temp),4)"
   ]
  },
  {
   "cell_type": "code",
   "execution_count": 311,
   "id": "6767c7ad-699c-40f7-aa15-b2ee024d9e51",
   "metadata": {},
   "outputs": [
    {
     "data": {
      "text/plain": [
       "{'оренбург': 1.25,\n",
       " 'липецк': 0.6,\n",
       " 'челябинск': 1.19,\n",
       " 'томск': 0.56,\n",
       " 'ханты-мансийск': 2.64,\n",
       " 'курган': 0.65,\n",
       " 'казань': 0.3,\n",
       " 'киров': 1.53,\n",
       " 'тула': 0.0,\n",
       " 'ижевск': 1.19,\n",
       " 'ставрополь': 0.03,\n",
       " 'брянск': 0.88,\n",
       " 'кемерово': 0.35,\n",
       " 'псков': 2.13,\n",
       " 'петрозаводск': 0.5,\n",
       " 'йошкар-ола': 0.59,\n",
       " 'улан-удэ': 0.74,\n",
       " 'иркутск': 0.88,\n",
       " 'калининград': 4.07,\n",
       " 'мурманск': 6.13,\n",
       " 'иваново': 1.76,\n",
       " 'омск': 1.78,\n",
       " 'волгоград': 0.84,\n",
       " 'нальчик': 0.07,\n",
       " 'санкт-петербург': 1.29,\n",
       " 'чебоксары': 0.38,\n",
       " 'орел': 0.74,\n",
       " 'элиста': 0.86,\n",
       " 'сыктывкар': 2.29,\n",
       " 'краснодар': 2.76,\n",
       " 'ростов': 4.25,\n",
       " 'самара': 0.69,\n",
       " 'биробиджан': 3.83,\n",
       " 'вологда': 0.15,\n",
       " 'анадырь': 6.02,\n",
       " 'владимир': 1.2,\n",
       " 'грозный': 0.83,\n",
       " 'петропавловск-камчатский': 4.27,\n",
       " 'нижний новгород': 0.88,\n",
       " 'якутск': 10.57,\n",
       " 'кызыл': 4.28,\n",
       " 'кострома': 2.1,\n",
       " 'тамбов': 0.72,\n",
       " 'саранск': 1.22,\n",
       " 'екатеринбург': 0.23,\n",
       " 'рязань': 0.29,\n",
       " 'хабаровск': 5.08,\n",
       " 'магадан': 6.22,\n",
       " 'абакан': 2.62,\n",
       " 'пенза': 1.79,\n",
       " 'астрахань': 1.48,\n",
       " 'пермь': 1.83,\n",
       " 'воронеж': 2.13,\n",
       " 'чита': 1.74,\n",
       " 'курск': 1.49,\n",
       " 'смоленск': 0.54,\n",
       " 'южно-сахалинск': 2.99,\n",
       " 'москва': 0.02,\n",
       " 'тверь': 1.12,\n",
       " 'тюмень': 0.57,\n",
       " 'великий новгород': 1.58,\n",
       " 'новосибирск': 0.17,\n",
       " 'калуга': 0.22,\n",
       " 'владивосток': 6.61,\n",
       " 'барнаул': 0.44,\n",
       " 'владикавказ': 0.94}"
      ]
     },
     "execution_count": 311,
     "metadata": {},
     "output_type": "execute_result"
    }
   ],
   "source": [
    "c_temp_diff"
   ]
  },
  {
   "cell_type": "code",
   "execution_count": null,
   "id": "546dcda1-8f06-4897-9138-0355aa747b02",
   "metadata": {},
   "outputs": [],
   "source": []
  }
 ],
 "metadata": {
  "kernelspec": {
   "display_name": "Python 3 (ipykernel)",
   "language": "python",
   "name": "python3"
  },
  "language_info": {
   "codemirror_mode": {
    "name": "ipython",
    "version": 3
   },
   "file_extension": ".py",
   "mimetype": "text/x-python",
   "name": "python",
   "nbconvert_exporter": "python",
   "pygments_lexer": "ipython3",
   "version": "3.12.4"
  }
 },
 "nbformat": 4,
 "nbformat_minor": 5
}
