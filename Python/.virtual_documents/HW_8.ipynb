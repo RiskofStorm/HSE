import pandas as pd
import numpy as np
import seaborn as sns
import  matplotlib.pyplot as plt 
from pathlib import Path

# sns.color_palette("colorblind")
# sns.set_palette(sns.color_palette("colorblind"))
sns.set_palette(sns.color_palette("muted"))

pd.set_option('display.max_columns', None)


city_w = pd.read_csv('./datasets/hw_8/city_weather.csv')
district_to_city = pd.read_csv('./datasets/hw_8/district_to_city.csv')


city_w.describe()





city_district = dict()


for k,v in district_to_city.set_index('city').to_dict()['federal_district'].items():
    k,v = k.lower(), v.lower()
    if v in city_district.keys():
        city_district[v].append(k)
    else:
        city_district[v] = []


city_district


cities_list = list()
for v in city_district.values():
    cities_list.extend(v)





# c_temp = {v:[] for v in cities_list}
c_temp = dict()





with open('./datasets/hw_8/city_weather.csv', encoding='utf-8') as cfile:
    for i,line in enumerate(cfile):
        if i == 0:
            continue
        city, _, day_t, night_t = map(str.lower, line.strip().split(','))
        if city in c_temp.keys():
            c_temp[city].append((float(day_t) + float(night_t))/2)
        else:
            c_temp[city] = [(float(day_t) + float(night_t))/2]





# c_temp_reduced = {v:{'cnt': 0, 'temp':0} for v in cities_list}
c_temp_reduced = dict()


for city, temp_list in c_temp.items():
    for temp in temp_list:
        if city in c_temp_reduced.keys():
            c_temp_reduced[city]['cnt'] += 1
            c_temp_reduced[city]['temp'] += temp
        else:
            c_temp_reduced[city] = {'cnt': 1, 'temp': temp}


c_temp_reduced_final = dict()


for city, payload in c_temp_reduced.items():
    c_temp_reduced_final[city] = round(payload['temp']/ payload['cnt'], 2)
c_temp_reduced_final





city_district_temp = {k:{'cnt':0, 'temp':0} for k in city_district.keys()}
city_district_temp


for city, temp in c_temp_reduced_final.items():
    for district, cities in city_district.items():
        if city in cities:
            city_district_temp[district]['cnt'] += 1
            city_district_temp[district]['temp'] += temp


city_district_temp_final = dict()
city_district_temp


for dist, payload in city_district_temp.items():
    city_district_temp_final[dist] = round(payload['temp']/ payload['cnt'], 2)
city_district_temp_final





c_temp_diff = dict()


for city, temp in c_temp_reduced_final.items():
    for district, cities in city_district.items():
        if city in cities:
            c_temp_diff[city] = round(abs(city_district_temp_final[district] - temp),4)


c_temp_diff



