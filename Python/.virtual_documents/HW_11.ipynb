

import pandas as pd


data_path = '/content/electronic_devices.csv'


data = pd.read_csv(data_path)
data


















