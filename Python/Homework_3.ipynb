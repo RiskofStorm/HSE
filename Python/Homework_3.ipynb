{
 "cells": [
  {
   "cell_type": "markdown",
   "id": "65e0d239-3a91-42d1-b6d1-ee8b01f540e1",
   "metadata": {
    "tags": []
   },
   "source": [
    "### Задание 1\n",
    "Дана переменная, в которой хранится словарь, содержащий геометки для каждого пользователя  \n",
    "(пример структуры данных приведён ниже). Вам нужно написать программу, которая выведет на  \n",
    "экран множество уникальных геометок всех пользователей.  \n",
    "#### Пример работы программы:\n",
    "ids = {&apos;user1&apos;: [213, 213, 213, 15, 213], &apos;user2&apos;: [54, 54, 119, 119, 119], &apos;user3&apos;: [213, 98, 98, 35]}  \n",
    "> Результат: {98, 35, 15, 213, 54, 119}"
   ]
  },
  {
   "cell_type": "code",
   "execution_count": 1,
   "id": "013091f9-67e1-4902-a5d4-506f66fa0c35",
   "metadata": {
    "tags": []
   },
   "outputs": [],
   "source": [
    "def unique_geotags(ids:dict) -> set:\n",
    "    unique_vals = set()\n",
    "    for data in ids.values():\n",
    "        unique_vals.update(data)\n",
    "    return unique_vals"
   ]
  },
  {
   "cell_type": "code",
   "execution_count": 2,
   "id": "82a43f1b-8ac7-4c12-bdef-3f1b97bd22ff",
   "metadata": {
    "tags": []
   },
   "outputs": [
    {
     "data": {
      "text/plain": [
       "{15, 35, 54, 98, 119, 213}"
      ]
     },
     "execution_count": 2,
     "metadata": {},
     "output_type": "execute_result"
    }
   ],
   "source": [
    "ids = {'user1': [213, 213, 213, 15, 213], 'user2': [54, 54, 119, 119, 119], 'user3': [213, 98, 98, 35]} \n",
    "test_data = {98, 35, 15, 213, 54, 119}\n",
    "\n",
    "unique_geotags(ids).intersection(test_data)"
   ]
  },
  {
   "cell_type": "markdown",
   "id": "f9b7334f-94d8-4a2a-8434-b2563953eea0",
   "metadata": {},
   "source": [
    "### Задание 2 (необязательное)  \n",
    " \n",
    "Дана переменная, в которой хранится список поисковых запросов пользователя (пример структуры  \n",
    "данных приведён ниже). Вам нужно написать программу, которая выведет на экран распределение  \n",
    "количества слов в запросах в требуемом виде.  \n",
    "#### Пример работы программы:  \n",
    "queries = [  \n",
    "&apos;смотреть сериалы онлайн&apos;,  \n",
    "&apos;новости спорта&apos;,  \n",
    "&apos;афиша кино&apos;,  \n",
    "&apos;курс доллара&apos;,  \n",
    "&apos;сериалы этим летом&apos;,  \n",
    "&apos;курс по питону&apos;,  \n",
    "&apos;сериалы про спорт&apos;,  \n",
    "]  \n",
    "> Результат:  \n",
    "Поисковых запросов, содержащих 2 слов(а): 42.86%  \n",
    "Поисковых запросов, содержащих 3 слов(а): 57.14%  "
   ]
  },
  {
   "cell_type": "code",
   "execution_count": 3,
   "id": "67d6de70-8f82-49db-8022-35d3cd5e7047",
   "metadata": {
    "tags": []
   },
   "outputs": [],
   "source": [
    "def count_words(queries: list) -> dict:\n",
    "    word_cnt = dict()\n",
    "    for query in queries:\n",
    "        _q_len = len(query.split(' '))\n",
    "        if _q_len in word_cnt.keys():\n",
    "            word_cnt[_q_len] += 1\n",
    "        else:\n",
    "            word_cnt[_q_len] = 1\n",
    "    return word_cnt\n",
    "\n",
    "def query_stats(queries: list) -> None:\n",
    "    q_word_cnt = count_words(queries)\n",
    "    q_total = len(queries)\n",
    "    \n",
    "    for key in sorted(q_word_cnt.keys()):\n",
    "        print(f'Поисковых запросов, содержащих {key} слов(а): {round(q_word_cnt[key] / q_total * 100 ,2)}%')\n"
   ]
  },
  {
   "cell_type": "code",
   "execution_count": 4,
   "id": "0ab63470-6392-4047-b437-8bdee5839fc4",
   "metadata": {
    "tags": []
   },
   "outputs": [
    {
     "name": "stdout",
     "output_type": "stream",
     "text": [
      "Поисковых запросов, содержащих 2 слов(а): 42.86%\n",
      "Поисковых запросов, содержащих 3 слов(а): 57.14%\n"
     ]
    }
   ],
   "source": [
    "queries = [\n",
    "'смотреть сериалы онлайн',\n",
    "'новости спорта',\n",
    "'афиша кино',\n",
    "'курс доллара',\n",
    "'сериалы этим летом',\n",
    "'курс по питону',\n",
    "'сериалы про спорт',\n",
    "] \n",
    "query_stats(queries)"
   ]
  },
  {
   "cell_type": "code",
   "execution_count": null,
   "id": "a581902d-6239-49ef-a743-712a3bc77b0e",
   "metadata": {},
   "outputs": [],
   "source": []
  }
 ],
 "metadata": {
  "kernelspec": {
   "display_name": "Python 3 (ipykernel)",
   "language": "python",
   "name": "python3"
  },
  "language_info": {
   "codemirror_mode": {
    "name": "ipython",
    "version": 3
   },
   "file_extension": ".py",
   "mimetype": "text/x-python",
   "name": "python",
   "nbconvert_exporter": "python",
   "pygments_lexer": "ipython3",
   "version": "3.11.5"
  }
 },
 "nbformat": 4,
 "nbformat_minor": 5
}
