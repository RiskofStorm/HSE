{
 "cells": [
  {
   "cell_type": "code",
   "execution_count": 1,
   "id": "c74f872c-9a48-4fdc-8aeb-9fe9cf288527",
   "metadata": {
    "tags": []
   },
   "outputs": [],
   "source": [
    "# task 1\n",
    "def is_leap_year(year:int, debug:bool=False) -> bool:\n",
    "    mark = False\n",
    "    \n",
    "    if year % 4 == 0:\n",
    "        mark = True\n",
    "    if year % 100 == 0:\n",
    "        mark = False\n",
    "    if year % 400 == 0:\n",
    "        mark = True\n",
    "    \n",
    "    if debug and mark:\n",
    "        print(f'високостный год')\n",
    "    elif debug:\n",
    "        print(f'обычный год')\n",
    "    else:\n",
    "        return mark\n",
    "\n",
    "\n",
    "# task 2\n",
    "def happy_ticket(number:str) -> None:\n",
    "    _sum_of_str = lambda s: sum(map(int,s))\n",
    "    \n",
    "    first_half = _sum_of_str(number[:3])\n",
    "    second_half = _sum_of_str(number[3:])\n",
    "    \n",
    "    if first_half == second_half:\n",
    "        print('Счастливый билет')\n",
    "    else:\n",
    "        print('Несчастливый билет')"
   ]
  },
  {
   "cell_type": "code",
   "execution_count": 2,
   "id": "4a02534f-8af6-44a2-9d0b-78c468730546",
   "metadata": {
    "tags": []
   },
   "outputs": [
    {
     "name": "stdin",
     "output_type": "stream",
     "text": [
      " 2020\n"
     ]
    },
    {
     "name": "stdout",
     "output_type": "stream",
     "text": [
      "високостный год\n"
     ]
    }
   ],
   "source": [
    "# task 1 test\n",
    "inserted_year = int(input())\n",
    "is_leap_year(inserted_year, True)"
   ]
  },
  {
   "cell_type": "code",
   "execution_count": 3,
   "id": "2c3871f0-af49-4761-8290-56a1bd972966",
   "metadata": {
    "tags": []
   },
   "outputs": [
    {
     "name": "stdin",
     "output_type": "stream",
     "text": [
      " 2019\n"
     ]
    },
    {
     "name": "stdout",
     "output_type": "stream",
     "text": [
      "обычный год\n"
     ]
    }
   ],
   "source": [
    "is_leap_year(int(input()), True)"
   ]
  },
  {
   "cell_type": "code",
   "execution_count": 4,
   "id": "f73489e5-7231-4a7b-8b60-310253826e1a",
   "metadata": {
    "tags": []
   },
   "outputs": [
    {
     "name": "stdout",
     "output_type": "stream",
     "text": [
      "[1504, 1508, 1512, 1516, 1520, 1524, 1528, 1532, 1536, 1540, 1544, 1548, 1552,\n",
      " 1556, 1560, 1564, 1568, 1572, 1576, 1580, 1584, 1588, 1592, 1596, 1600, 1604,\n",
      " 1608, 1612, 1616, 1620, 1624, 1628, 1632, 1636, 1640, 1644, 1648, 1652, 1656,\n",
      " 1660, 1664, 1668, 1672, 1676, 1680, 1684, 1688, 1692, 1696, 1704, 1708, 1712,\n",
      " 1716, 1720, 1724, 1728, 1732, 1736, 1740, 1744, 1748, 1752, 1756, 1760, 1764,\n",
      " 1768, 1772, 1776, 1780, 1784, 1788, 1792, 1796, 1804, 1808, 1812, 1816, 1820,\n",
      " 1824, 1828, 1832, 1836, 1840, 1844, 1848, 1852, 1856, 1860, 1864, 1868, 1872,\n",
      " 1876, 1880, 1884, 1888, 1892, 1896, 1904, 1908, 1912, 1916, 1920, 1924, 1928,\n",
      " 1932, 1936, 1940, 1944, 1948, 1952, 1956, 1960, 1964, 1968, 1972, 1976, 1980,\n",
      " 1984, 1988, 1992, 1996, 2000, 2004, 2008, 2012, 2016, 2020, 2024, 2028, 2032,\n",
      " 2036, 2040, 2044, 2048, 2052, 2056, 2060, 2064, 2068, 2072, 2076, 2080, 2084,\n",
      " 2088, 2092, 2096, 2104, 2108, 2112, 2116, 2120, 2124, 2128, 2132, 2136, 2140,\n",
      " 2144, 2148, 2152, 2156, 2160, 2164, 2168, 2172, 2176, 2180, 2184, 2188, 2192,\n",
      " 2196]\n"
     ]
    }
   ],
   "source": [
    "from pprint import pprint\n",
    "leap_years = [year for year in filter(is_leap_year, [i for i in range(1500, 2200)])]\n",
    "pprint(leap_years, compact=1)"
   ]
  },
  {
   "cell_type": "code",
   "execution_count": 5,
   "id": "e87a4564-df4a-463a-801d-768bb49e35c3",
   "metadata": {
    "tags": []
   },
   "outputs": [
    {
     "name": "stdin",
     "output_type": "stream",
     "text": [
      " 123456\n"
     ]
    },
    {
     "name": "stdout",
     "output_type": "stream",
     "text": [
      "Несчастливый билет\n"
     ]
    }
   ],
   "source": [
    "# task 2 test\n",
    "happy_ticket(input())"
   ]
  },
  {
   "cell_type": "code",
   "execution_count": 6,
   "id": "8e7cf48a-f262-4f02-8890-bb0a9b0e14cf",
   "metadata": {
    "tags": []
   },
   "outputs": [
    {
     "name": "stdin",
     "output_type": "stream",
     "text": [
      " 123321\n"
     ]
    },
    {
     "name": "stdout",
     "output_type": "stream",
     "text": [
      "Счастливый билет\n"
     ]
    }
   ],
   "source": [
    "happy_ticket(input())"
   ]
  },
  {
   "cell_type": "code",
   "execution_count": null,
   "id": "bc18ed0e-8fc9-4487-9deb-db2b98341abb",
   "metadata": {},
   "outputs": [],
   "source": []
  }
 ],
 "metadata": {
  "kernelspec": {
   "display_name": "Python 3 (ipykernel)",
   "language": "python",
   "name": "python3"
  },
  "language_info": {
   "codemirror_mode": {
    "name": "ipython",
    "version": 3
   },
   "file_extension": ".py",
   "mimetype": "text/x-python",
   "name": "python",
   "nbconvert_exporter": "python",
   "pygments_lexer": "ipython3",
   "version": "3.11.5"
  }
 },
 "nbformat": 4,
 "nbformat_minor": 5
}
