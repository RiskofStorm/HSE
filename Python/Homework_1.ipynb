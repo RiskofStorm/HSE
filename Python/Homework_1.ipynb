{
 "cells": [
  {
   "cell_type": "code",
   "execution_count": 34,
   "id": "c74f872c-9a48-4fdc-8aeb-9fe9cf288527",
   "metadata": {
    "tags": []
   },
   "outputs": [
    {
     "name": "stdin",
     "output_type": "stream",
     "text": [
      " 2024\n"
     ]
    },
    {
     "name": "stdout",
     "output_type": "stream",
     "text": [
      "2024 - является високостным\n"
     ]
    },
    {
     "data": {
      "text/plain": [
       "True"
      ]
     },
     "execution_count": 34,
     "metadata": {},
     "output_type": "execute_result"
    }
   ],
   "source": [
    "inserted_year = int(input())\n",
    "def is_leap_year(year:int, debug:bool=False) -> bool:\n",
    "    mark = False\n",
    "    \n",
    "    if year % 4 == 0:\n",
    "        mark = True\n",
    "    if year % 100 == 0:\n",
    "        mark = False\n",
    "    if year % 400 == 0:\n",
    "        mark = True\n",
    "    \n",
    "    if debug and mark:\n",
    "        print(f'{year} - является високостным')\n",
    "    elif debug:\n",
    "        print(f'{year} - не является високостным')\n",
    "        \n",
    "    return mark\n",
    "is_leap_year(inserted_year, True)"
   ]
  },
  {
   "cell_type": "code",
   "execution_count": 36,
   "id": "2c3871f0-af49-4761-8290-56a1bd972966",
   "metadata": {
    "tags": []
   },
   "outputs": [
    {
     "name": "stdin",
     "output_type": "stream",
     "text": [
      " 2023\n"
     ]
    },
    {
     "name": "stdout",
     "output_type": "stream",
     "text": [
      "2023 - не является високостным\n"
     ]
    },
    {
     "data": {
      "text/plain": [
       "False"
      ]
     },
     "execution_count": 36,
     "metadata": {},
     "output_type": "execute_result"
    }
   ],
   "source": [
    "is_leap_year(int(input()), True)"
   ]
  },
  {
   "cell_type": "code",
   "execution_count": 31,
   "id": "f73489e5-7231-4a7b-8b60-310253826e1a",
   "metadata": {
    "tags": []
   },
   "outputs": [
    {
     "name": "stdout",
     "output_type": "stream",
     "text": [
      "[1904, 1908, 1912, 1916, 1920, 1924, 1928, 1932, 1936, 1940, 1944, 1948, 1952,\n",
      " 1956, 1960, 1964, 1968, 1972, 1976, 1980, 1984, 1988, 1992, 1996, 2000, 2004,\n",
      " 2008, 2012, 2016, 2020, 2024, 2028, 2032, 2036, 2040, 2044, 2048, 2052, 2056,\n",
      " 2060, 2064, 2068, 2072, 2076, 2080, 2084, 2088, 2092, 2096]\n"
     ]
    }
   ],
   "source": [
    "from pprint import pprint\n",
    "leap_years = [year for year in filter(is_leap_year, [i for i in range(1900, 2100)])]\n",
    "pprint(leap_years, compact=1)"
   ]
  },
  {
   "cell_type": "code",
   "execution_count": null,
   "id": "e87a4564-df4a-463a-801d-768bb49e35c3",
   "metadata": {},
   "outputs": [],
   "source": []
  }
 ],
 "metadata": {
  "kernelspec": {
   "display_name": "Python 3 (ipykernel)",
   "language": "python",
   "name": "python3"
  },
  "language_info": {
   "codemirror_mode": {
    "name": "ipython",
    "version": 3
   },
   "file_extension": ".py",
   "mimetype": "text/x-python",
   "name": "python",
   "nbconvert_exporter": "python",
   "pygments_lexer": "ipython3",
   "version": "3.11.5"
  }
 },
 "nbformat": 4,
 "nbformat_minor": 5
}
