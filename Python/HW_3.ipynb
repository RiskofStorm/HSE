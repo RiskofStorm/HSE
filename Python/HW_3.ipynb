{
 "cells": [
  {
   "cell_type": "code",
   "execution_count": 237,
   "id": "bdfd3869-2c9a-493b-a5e4-aa1d71630a61",
   "metadata": {
    "tags": []
   },
   "outputs": [],
   "source": [
    "from datetime import datetime\n",
    "from dataclasses import dataclass\n",
    "from typing import List, Any, Tuple\n",
    "from  decimal import Decimal\n",
    "import time\n",
    "from pydantic import BaseModel\n",
    "\n",
    "\n",
    "# @dataclass\n",
    "class MoneyHistory(BaseModel):\n",
    "    date: datetime\n",
    "    operation: Decimal\n",
    "\n",
    "\n",
    "\n",
    "class Account:\n",
    "    def __init__(self, name, start_balance):\n",
    "        self.name = name\n",
    "        self.__balance: Decimal = start_balance\n",
    "        self.__deposit_history: List[Tuple[MoneyHistory]] = list()\n",
    "        self.__withdraw_history: List[Tuple[MoneyHistory]] = list()\n",
    "    \n",
    "    def __convert_to_money(self,number: Any) -> Decimal:\n",
    "        try:\n",
    "            number = Decimal(number)\n",
    "            if number < 0:\n",
    "                raise ValueError(f'Number cannot be negative! {number}')\n",
    "        except:\n",
    "            print(f'Argument Error {number} is not a number')\n",
    "        return number\n",
    "    \n",
    "    def get_balance(self):\n",
    "        \"\"\"\n",
    "        return account balace method\n",
    "        \n",
    "        params:\n",
    "        None\n",
    "        \"\"\"\n",
    "        return float(self.__balance) \n",
    "    \n",
    "            \n",
    "    def withdraw(self, money_to_withdraw: Decimal) -> None:\n",
    "        \"\"\"\n",
    "        withdraw money method\n",
    "        \n",
    "        params:\n",
    "        money_to_withdraw: Decimal\n",
    "        \"\"\"\n",
    "        money_to_withdraw = self.__convert_to_money(money_to_withdraw)\n",
    "        self.__balance -=  money_to_withdraw\n",
    "        self.__withdraw_history.append((datetime.now(), -money_to_withdraw))\n",
    "                                     \n",
    "    def deposit(self, money_to_deposit: Decimal) -> None:\n",
    "        \"\"\"\n",
    "        deposit money method\n",
    "        \n",
    "        params:\n",
    "        money_to_deposit: Decimal\n",
    "        \"\"\"\n",
    "        money_to_deposit = self.__convert_to_money(money_to_deposit)\n",
    "        self.__balance += money_to_deposit\n",
    "        self.__deposit_history.append((datetime.now(), money_to_deposit))\n",
    "        \n",
    "    \n",
    "    def get_account_history(self, descending: bool=True) -> List[MoneyHistory]:\n",
    "        \"\"\"\n",
    "        get_account_history method\n",
    "        params:\n",
    "        \n",
    "        descending: bool  DEFAULT True - return list order by DESC\n",
    "        \"\"\"\n",
    "        acc_history = list()\n",
    "        acc_history.extend(self.__deposit_history)\n",
    "        acc_history.extend(self.__withdraw_history)\n",
    "        acc_history = [(t[0].strftime('%Y-%m-%d %H:%M:%S'), float(t[1])) for t in acc_history]\n",
    "        return sorted(acc_history, key=lambda x: x[0], reverse=descending)"
   ]
  },
  {
   "cell_type": "code",
   "execution_count": 239,
   "id": "12f7322b-35d7-4958-885b-61cbe0f927a1",
   "metadata": {
    "tags": []
   },
   "outputs": [],
   "source": [
    "daniels_bank_acc = Account('DanielAbramov', 100)\n",
    "\n",
    "daniels_bank_acc.withdraw(50)\n",
    "daniels_bank_acc.deposit(120)\n",
    "\n",
    "time.sleep(15)\n",
    "daniels_bank_acc.deposit(40000)\n",
    "time.sleep(30)\n",
    "daniels_bank_acc.withdraw(24000)\n",
    "time.sleep(10)\n",
    "daniels_bank_acc.withdraw(2000)"
   ]
  },
  {
   "cell_type": "code",
   "execution_count": 240,
   "id": "acda8783-4dd6-42d5-8730-d04adeef10aa",
   "metadata": {
    "tags": []
   },
   "outputs": [
    {
     "data": {
      "text/plain": [
       "14170.0"
      ]
     },
     "execution_count": 240,
     "metadata": {},
     "output_type": "execute_result"
    }
   ],
   "source": [
    "daniels_bank_acc.get_balance()"
   ]
  },
  {
   "cell_type": "code",
   "execution_count": 246,
   "id": "6713d086-4171-4213-aa96-66dd6011fd37",
   "metadata": {
    "tags": []
   },
   "outputs": [
    {
     "name": "stdout",
     "output_type": "stream",
     "text": [
      "At 2024-10-05 20:05:52\n",
      "DanielAbramov's account money were changed by -2000.0\n",
      "\n",
      "At 2024-10-05 20:05:42\n",
      "DanielAbramov's account money were changed by -24000.0\n",
      "\n",
      "At 2024-10-05 20:05:12\n",
      "DanielAbramov's account money were changed by 40000.0\n",
      "\n",
      "At 2024-10-05 20:04:57\n",
      "DanielAbramov's account money were changed by 120.0\n",
      "\n",
      "At 2024-10-05 20:04:57\n",
      "DanielAbramov's account money were changed by -50.0\n",
      "\n",
      "Total account money at 2024-10-05:  14170.0\n"
     ]
    }
   ],
   "source": [
    "name = daniels_bank_acc.name\n",
    "for date, money in daniels_bank_acc.get_account_history(True):\n",
    "    print(f'At {date}')\n",
    "    print(f'{name}\\'s account money were changed by {money}')\n",
    "    print('')\n",
    "print(f'Total account money at {datetime.now().date()}:  {daniels_bank_acc.get_balance()}')"
   ]
  },
  {
   "cell_type": "code",
   "execution_count": null,
   "id": "8cc97760-50b5-4c53-a82c-15a8ab691490",
   "metadata": {},
   "outputs": [],
   "source": []
  }
 ],
 "metadata": {
  "kernelspec": {
   "display_name": "Python 3 (ipykernel)",
   "language": "python",
   "name": "python3"
  },
  "language_info": {
   "codemirror_mode": {
    "name": "ipython",
    "version": 3
   },
   "file_extension": ".py",
   "mimetype": "text/x-python",
   "name": "python",
   "nbconvert_exporter": "python",
   "pygments_lexer": "ipython3",
   "version": "3.11.5"
  }
 },
 "nbformat": 4,
 "nbformat_minor": 5
}
