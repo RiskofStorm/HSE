{
 "cells": [
  {
   "cell_type": "code",
   "execution_count": 67,
   "id": "bdfd3869-2c9a-493b-a5e4-aa1d71630a61",
   "metadata": {
    "tags": []
   },
   "outputs": [],
   "source": [
    "from datetime import datetime\n",
    "from dataclasses import dataclass\n",
    "from typing import List, Any, Tuple\n",
    "from  decimal import Decimal\n",
    "import time\n",
    "from pydantic import BaseModel\n",
    "\n",
    "\n",
    "# @dataclass\n",
    "class MoneyHistory(BaseModel):\n",
    "    date: datetime\n",
    "    operation: Decimal\n",
    "\n",
    "#TODO доделать - потестить\n",
    "class MoneyValidationError(ValueError):\n",
    "    def __init__(self, message, errors):            \n",
    "        super().__init__()\n",
    "        self.errors = errors\n",
    "        self.message = None\n",
    "    def __str__(self):\n",
    "        return str(self.message)\n",
    "    \n",
    "class Money:\n",
    "    def __init__(self):\n",
    "        pass \n",
    "    def _convert_to_money(self, number: Any) -> Decimal:\n",
    "        try:\n",
    "            number = Decimal(number)\n",
    "            if number < 0:\n",
    "                raise ValueError(f'Number cannot be negative! {number}')\n",
    "        except:\n",
    "            print(f'Argument Error {number} is not a number')\n",
    "        return number\n",
    "\n",
    "\n",
    "class OperationHistory:\n",
    "    def __init__(self):\n",
    "        self.deposit_history: List[Tuple[MoneyHistory]] = list()\n",
    "        self.withdraw_history: List[Tuple[MoneyHistory]] = list()\n",
    "    \n",
    "    def withdraw_history_udpdate(self, money_to_withdraw):\n",
    "        self.withdraw_history.append((datetime.now(), -money_to_withdraw))\n",
    "        \n",
    "    def deposit_history_update(self, money_to_deposit):\n",
    "        self.deposit_history.append((datetime.now(), money_to_deposit))\n",
    "        \n",
    "    def get_account_history(self, descending: bool=True) -> List[MoneyHistory]:\n",
    "        \"\"\"\n",
    "        get_account_history method\n",
    "        params:\n",
    "\n",
    "        descending: bool  DEFAULT True - return list order by DESC\n",
    "        \"\"\"\n",
    "        acc_history = list()\n",
    "        acc_history.extend(self.deposit_history)\n",
    "        acc_history.extend(self.withdraw_history)\n",
    "        acc_history = [(t[0].strftime('%Y-%m-%d %H:%M:%S'), float(t[1])) for t in acc_history]\n",
    "        return sorted(acc_history, key=lambda x: x[0], reverse=descending)\n",
    "    \n",
    "\n",
    "        \n",
    "    \n",
    "class Account(Money, OperationHistory):\n",
    "    def __init__(self, name: str, start_balance: float) -> None:\n",
    "        super(OperationHistory, self).__init__(deposit_history, withdraw_history)\n",
    "        super(Money, self).__init__()\n",
    "\n",
    "        self.name: str = name\n",
    "        self.__balance: Decimal = self._convert_to_money(start_balance)\n",
    "        # self.__balance:Decimal = Money.__convert_to_money(start_balance)\n",
    "\n",
    "\n",
    "    @property\n",
    "    def balance(self) -> Decimal:\n",
    "        return self.__balance \n",
    "    \n",
    "    @balance.getter\n",
    "    def balance(self, balance) -> float:\n",
    "        return float(self.__balance)\n",
    "    \n",
    "    def withdraw(self, money_to_withdraw: Decimal) -> None:\n",
    "        \"\"\"\n",
    "        withdraw money method\n",
    "        \n",
    "        params:\n",
    "        money_to_withdraw: Decimal\n",
    "        \"\"\"\n",
    "        money_to_withdraw = super()._convert_to_money(money_to_withdraw)\n",
    "        self.__balance -=  money_to_withdraw\n",
    "        self.withdraw_history_udpdate(money_to_withdraw)\n",
    "                                     \n",
    "    def deposit(self, money_to_deposit: Decimal) -> None:\n",
    "        \"\"\"\n",
    "        deposit money method\n",
    "        \n",
    "        params:\n",
    "        money_to_deposit: Decimal\n",
    "        \"\"\"\n",
    "        money_to_deposit = super()._convert_to_money(money_to_deposit)\n",
    "        self.__balance += money_to_deposit\n",
    "        self.deposit_history_update(money_to_deposit)\n",
    "        \n",
    "    def print_account_history(self, from_latest: bool=True) -> None:\n",
    "        \"\"\"\n",
    "        print_account_history method\n",
    "        params:\n",
    "        \n",
    "        from_latest: bool  DEFAULT True - print account money change with  order by DESC\n",
    "        \"\"\"\n",
    "        for date, money in self.get_account_history(from_latest):\n",
    "            print(f'At {date}')\n",
    "            print(f'{self.name}\\'s account money were changed by {money}')\n",
    "            print('')\n",
    "        print(f'Total {self.name}\\'s  account money at {datetime.now().date()}:  {self.get_balance()}')"
   ]
  },
  {
   "cell_type": "code",
   "execution_count": 68,
   "id": "f851242d-52a7-4355-8d7a-aeadcd115695",
   "metadata": {
    "tags": []
   },
   "outputs": [],
   "source": [
    "fuck = OperationHistory()\n",
    "fuck.deposit_history_update(10)"
   ]
  },
  {
   "cell_type": "code",
   "execution_count": 69,
   "id": "8a6ff4d9-1ad2-402f-af84-12a5ca64c2d6",
   "metadata": {
    "tags": []
   },
   "outputs": [
    {
     "data": {
      "text/plain": [
       "[(datetime.datetime(2024, 10, 19, 1, 29, 39, 58410), 10)]"
      ]
     },
     "execution_count": 69,
     "metadata": {},
     "output_type": "execute_result"
    }
   ],
   "source": [
    "fuck.deposit_history"
   ]
  },
  {
   "cell_type": "code",
   "execution_count": 62,
   "id": "b3a8ca30-8f60-4995-aeaf-84c559ea247b",
   "metadata": {
    "tags": []
   },
   "outputs": [
    {
     "data": {
      "text/plain": [
       "[('__init__',\n",
       "  <function __main__.Account.__init__(self, name: str, start_balance: float) -> None>),\n",
       " ('_convert_to_money',\n",
       "  <function __main__.Money._convert_to_money(self, number: Any) -> decimal.Decimal>),\n",
       " ('deposit',\n",
       "  <function __main__.Account.deposit(self, money_to_deposit: decimal.Decimal) -> None>),\n",
       " ('deposit_history_update',\n",
       "  <function __main__.OperationHistory.deposit_history_update(self, money_to_deposit)>),\n",
       " ('get_account_history',\n",
       "  <function __main__.OperationHistory.get_account_history(self, descending: bool = True) -> List[__main__.MoneyHistory]>),\n",
       " ('print_account_history',\n",
       "  <function __main__.OperationHistory.print_account_history(self, from_latest: bool = True) -> None>),\n",
       " ('withdraw',\n",
       "  <function __main__.Account.withdraw(self, money_to_withdraw: decimal.Decimal) -> None>),\n",
       " ('withdraw_history_udpdate',\n",
       "  <function __main__.OperationHistory.withdraw_history_udpdate(self, money_to_withdraw)>)]"
      ]
     },
     "execution_count": 62,
     "metadata": {},
     "output_type": "execute_result"
    }
   ],
   "source": [
    "import inspect\n",
    "# from optparse import OptionParser\n",
    "inspect.getmembers(Account, predicate=inspect.isfunction)"
   ]
  },
  {
   "cell_type": "code",
   "execution_count": 63,
   "id": "5f9c5e5f-3952-47bf-950a-caf05143747d",
   "metadata": {
    "tags": []
   },
   "outputs": [
    {
     "ename": "NameError",
     "evalue": "name 'deposit_history' is not defined",
     "output_type": "error",
     "traceback": [
      "\u001b[1;31m---------------------------------------------------------------------------\u001b[0m",
      "\u001b[1;31mNameError\u001b[0m                                 Traceback (most recent call last)",
      "Cell \u001b[1;32mIn[63], line 1\u001b[0m\n\u001b[1;32m----> 1\u001b[0m daniels_bank_acc \u001b[38;5;241m=\u001b[39m Account(\u001b[38;5;124m'\u001b[39m\u001b[38;5;124mDanielAbramov\u001b[39m\u001b[38;5;124m'\u001b[39m, \u001b[38;5;241m100\u001b[39m)\n",
      "Cell \u001b[1;32mIn[61], line 76\u001b[0m, in \u001b[0;36mAccount.__init__\u001b[1;34m(self, name, start_balance)\u001b[0m\n\u001b[0;32m     75\u001b[0m \u001b[38;5;28;01mdef\u001b[39;00m \u001b[38;5;21m__init__\u001b[39m(\u001b[38;5;28mself\u001b[39m, name: \u001b[38;5;28mstr\u001b[39m, start_balance: \u001b[38;5;28mfloat\u001b[39m) \u001b[38;5;241m-\u001b[39m\u001b[38;5;241m>\u001b[39m \u001b[38;5;28;01mNone\u001b[39;00m:\n\u001b[1;32m---> 76\u001b[0m     \u001b[38;5;28msuper\u001b[39m(OperationHistory, \u001b[38;5;28mself\u001b[39m)\u001b[38;5;241m.\u001b[39m\u001b[38;5;21m__init__\u001b[39m(deposit_history, withdraw_history)\n\u001b[0;32m     77\u001b[0m     \u001b[38;5;28msuper\u001b[39m(Money, \u001b[38;5;28mself\u001b[39m)\u001b[38;5;241m.\u001b[39m\u001b[38;5;21m__init__\u001b[39m()\n\u001b[0;32m     79\u001b[0m     \u001b[38;5;28mself\u001b[39m\u001b[38;5;241m.\u001b[39mname: \u001b[38;5;28mstr\u001b[39m \u001b[38;5;241m=\u001b[39m name\n",
      "\u001b[1;31mNameError\u001b[0m: name 'deposit_history' is not defined"
     ]
    }
   ],
   "source": [
    "daniels_bank_acc = Account('DanielAbramov', 100)"
   ]
  },
  {
   "cell_type": "code",
   "execution_count": 48,
   "id": "4375826b-60ed-4226-9d22-b2be0d738733",
   "metadata": {
    "tags": []
   },
   "outputs": [
    {
     "ename": "AttributeError",
     "evalue": "'Account' object has no attribute 'withdraw_history'",
     "output_type": "error",
     "traceback": [
      "\u001b[1;31m---------------------------------------------------------------------------\u001b[0m",
      "\u001b[1;31mAttributeError\u001b[0m                            Traceback (most recent call last)",
      "Cell \u001b[1;32mIn[48], line 1\u001b[0m\n\u001b[1;32m----> 1\u001b[0m daniels_bank_acc\u001b[38;5;241m.\u001b[39mwithdraw(\u001b[38;5;241m50\u001b[39m)\n",
      "Cell \u001b[1;32mIn[45], line 101\u001b[0m, in \u001b[0;36mAccount.withdraw\u001b[1;34m(self, money_to_withdraw)\u001b[0m\n\u001b[0;32m     99\u001b[0m money_to_withdraw \u001b[38;5;241m=\u001b[39m \u001b[38;5;28mself\u001b[39m\u001b[38;5;241m.\u001b[39m_convert_to_money(money_to_withdraw)\n\u001b[0;32m    100\u001b[0m \u001b[38;5;28mself\u001b[39m\u001b[38;5;241m.\u001b[39m__balance \u001b[38;5;241m-\u001b[39m\u001b[38;5;241m=\u001b[39m  money_to_withdraw\n\u001b[1;32m--> 101\u001b[0m \u001b[38;5;28mself\u001b[39m\u001b[38;5;241m.\u001b[39mwithdraw_history_udpdate(money_to_withdraw)\n",
      "Cell \u001b[1;32mIn[45], line 42\u001b[0m, in \u001b[0;36mOperationHistory.withdraw_history_udpdate\u001b[1;34m(self, money_to_withdraw)\u001b[0m\n\u001b[0;32m     41\u001b[0m \u001b[38;5;28;01mdef\u001b[39;00m \u001b[38;5;21mwithdraw_history_udpdate\u001b[39m(\u001b[38;5;28mself\u001b[39m, money_to_withdraw):\n\u001b[1;32m---> 42\u001b[0m     \u001b[38;5;28mself\u001b[39m\u001b[38;5;241m.\u001b[39mwithdraw_history\u001b[38;5;241m.\u001b[39mappend((datetime\u001b[38;5;241m.\u001b[39mnow(), \u001b[38;5;241m-\u001b[39mmoney_to_withdraw))\n",
      "\u001b[1;31mAttributeError\u001b[0m: 'Account' object has no attribute 'withdraw_history'"
     ]
    }
   ],
   "source": [
    "daniels_bank_acc.withdraw(50)"
   ]
  },
  {
   "cell_type": "code",
   "execution_count": 43,
   "id": "12f7322b-35d7-4958-885b-61cbe0f927a1",
   "metadata": {
    "tags": []
   },
   "outputs": [
    {
     "ename": "AttributeError",
     "evalue": "'Account' object has no attribute 'withdraw_history'",
     "output_type": "error",
     "traceback": [
      "\u001b[1;31m---------------------------------------------------------------------------\u001b[0m",
      "\u001b[1;31mAttributeError\u001b[0m                            Traceback (most recent call last)",
      "Cell \u001b[1;32mIn[43], line 3\u001b[0m\n\u001b[0;32m      1\u001b[0m daniels_bank_acc \u001b[38;5;241m=\u001b[39m Account(\u001b[38;5;124m'\u001b[39m\u001b[38;5;124mDanielAbramov\u001b[39m\u001b[38;5;124m'\u001b[39m, \u001b[38;5;241m100\u001b[39m)\n\u001b[1;32m----> 3\u001b[0m daniels_bank_acc\u001b[38;5;241m.\u001b[39mwithdraw(\u001b[38;5;241m50\u001b[39m)\n\u001b[0;32m      4\u001b[0m daniels_bank_acc\u001b[38;5;241m.\u001b[39mdeposit(\u001b[38;5;241m120\u001b[39m)\n\u001b[0;32m      6\u001b[0m time\u001b[38;5;241m.\u001b[39msleep(\u001b[38;5;241m15\u001b[39m)\n",
      "Cell \u001b[1;32mIn[42], line 101\u001b[0m, in \u001b[0;36mAccount.withdraw\u001b[1;34m(self, money_to_withdraw)\u001b[0m\n\u001b[0;32m     99\u001b[0m money_to_withdraw \u001b[38;5;241m=\u001b[39m \u001b[38;5;28mself\u001b[39m\u001b[38;5;241m.\u001b[39m_convert_to_money(money_to_withdraw)\n\u001b[0;32m    100\u001b[0m \u001b[38;5;28mself\u001b[39m\u001b[38;5;241m.\u001b[39m__balance \u001b[38;5;241m-\u001b[39m\u001b[38;5;241m=\u001b[39m  money_to_withdraw\n\u001b[1;32m--> 101\u001b[0m \u001b[38;5;28mself\u001b[39m\u001b[38;5;241m.\u001b[39mwithdraw_history_udpdate(money_to_withdraw)\n",
      "Cell \u001b[1;32mIn[42], line 42\u001b[0m, in \u001b[0;36mOperationHistory.withdraw_history_udpdate\u001b[1;34m(self, money_to_withdraw)\u001b[0m\n\u001b[0;32m     41\u001b[0m \u001b[38;5;28;01mdef\u001b[39;00m \u001b[38;5;21mwithdraw_history_udpdate\u001b[39m(\u001b[38;5;28mself\u001b[39m, money_to_withdraw):\n\u001b[1;32m---> 42\u001b[0m     \u001b[38;5;28mself\u001b[39m\u001b[38;5;241m.\u001b[39mwithdraw_history\u001b[38;5;241m.\u001b[39mappend((datetime\u001b[38;5;241m.\u001b[39mnow(), \u001b[38;5;241m-\u001b[39mmoney_to_withdraw))\n",
      "\u001b[1;31mAttributeError\u001b[0m: 'Account' object has no attribute 'withdraw_history'"
     ]
    }
   ],
   "source": [
    "daniels_bank_acc = Account('DanielAbramov', 100)\n",
    "\n",
    "daniels_bank_acc.withdraw(50)\n",
    "daniels_bank_acc.deposit(120)\n",
    "\n",
    "time.sleep(15)\n",
    "daniels_bank_acc.deposit(40000)\n",
    "time.sleep(30)\n",
    "daniels_bank_acc.withdraw(24000)\n",
    "time.sleep(10)\n",
    "daniels_bank_acc.withdraw(2000)"
   ]
  },
  {
   "cell_type": "code",
   "execution_count": 266,
   "id": "acda8783-4dd6-42d5-8730-d04adeef10aa",
   "metadata": {
    "tags": []
   },
   "outputs": [
    {
     "data": {
      "text/plain": [
       "14170.0"
      ]
     },
     "execution_count": 266,
     "metadata": {},
     "output_type": "execute_result"
    }
   ],
   "source": [
    "daniels_bank_acc.get_balance()"
   ]
  },
  {
   "cell_type": "code",
   "execution_count": 267,
   "id": "6713d086-4171-4213-aa96-66dd6011fd37",
   "metadata": {
    "tags": []
   },
   "outputs": [
    {
     "name": "stdout",
     "output_type": "stream",
     "text": [
      "At 2024-10-06 01:00:12\n",
      "DanielAbramov's account money were changed by -2000.0\n",
      "\n",
      "At 2024-10-06 01:00:02\n",
      "DanielAbramov's account money were changed by -24000.0\n",
      "\n",
      "At 2024-10-06 00:59:32\n",
      "DanielAbramov's account money were changed by 40000.0\n",
      "\n",
      "At 2024-10-06 00:59:17\n",
      "DanielAbramov's account money were changed by 120.0\n",
      "\n",
      "At 2024-10-06 00:59:17\n",
      "DanielAbramov's account money were changed by -50.0\n",
      "\n",
      "Total DanielAbramov's  account money at 2024-10-06:  14170.0\n"
     ]
    }
   ],
   "source": [
    "daniels_bank_acc.print_account_history(True)"
   ]
  },
  {
   "cell_type": "code",
   "execution_count": 268,
   "id": "8ea70e3c-466a-4599-9d2b-2c0c08c620a1",
   "metadata": {
    "tags": []
   },
   "outputs": [
    {
     "name": "stdout",
     "output_type": "stream",
     "text": [
      "At 2024-10-06 00:59:17\n",
      "DanielAbramov's account money were changed by 120.0\n",
      "\n",
      "At 2024-10-06 00:59:17\n",
      "DanielAbramov's account money were changed by -50.0\n",
      "\n",
      "At 2024-10-06 00:59:32\n",
      "DanielAbramov's account money were changed by 40000.0\n",
      "\n",
      "At 2024-10-06 01:00:02\n",
      "DanielAbramov's account money were changed by -24000.0\n",
      "\n",
      "At 2024-10-06 01:00:12\n",
      "DanielAbramov's account money were changed by -2000.0\n",
      "\n",
      "Total DanielAbramov's  account money at 2024-10-06:  14170.0\n"
     ]
    }
   ],
   "source": [
    "daniels_bank_acc.print_account_history(False)"
   ]
  },
  {
   "cell_type": "code",
   "execution_count": null,
   "id": "669626ce-afff-4a7e-a20a-872797fc3d53",
   "metadata": {},
   "outputs": [],
   "source": []
  }
 ],
 "metadata": {
  "kernelspec": {
   "display_name": "Python 3 (ipykernel)",
   "language": "python",
   "name": "python3"
  },
  "language_info": {
   "codemirror_mode": {
    "name": "ipython",
    "version": 3
   },
   "file_extension": ".py",
   "mimetype": "text/x-python",
   "name": "python",
   "nbconvert_exporter": "python",
   "pygments_lexer": "ipython3",
   "version": "3.11.5"
  }
 },
 "nbformat": 4,
 "nbformat_minor": 5
}
