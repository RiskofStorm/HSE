{
 "cells": [
  {
   "cell_type": "markdown",
   "id": "f2f80dab-78d5-4777-b170-72166e726bf2",
   "metadata": {},
   "source": [
    "# Задание  \n",
    "\n",
    "Вам нужно помочь секретарю автоматизировать работу. Для этого нужно написать  \n",
    "программу, которая будет на основе хранимых данных исполнять пользовательские  \n",
    "команды.  \n",
    "<br>\n",
    "Исходные данные имеют следующую структуру:  \n",
    "<br>\n",
    "*1. перечень всех документов*  \n",
    "documents = [  \n",
    "{&apos;type&apos;: &apos;passport&apos;, &apos;number&apos;: &apos;2207 876234&apos;,  \n",
    "&apos;name&apos;: &apos;Василий Гупкин&apos;},  \n",
    "{&apos;type&apos;: &apos;invoice&apos;, &apos;number&apos;: &apos;11-2&apos;,  \n",
    "&apos;name&apos;: &apos;Геннадий Покемонов&apos;},  \n",
    "{&apos;type&apos;: &apos;insurance&apos;, &apos;number&apos;: &apos;10006&apos;,  \n",
    "&apos;name&apos;: &apos;Аристарх Павлов&apos;}  \n",
    "]  \n",
    "<br>\n",
    "*2. перечень полок, на которых хранятся документы (если документ есть в documents, он  \n",
    "обязательно должен быть и в directories)*  \n",
    "directories = {  \n",
    "&apos;1&apos;: [&apos;2207 876234&apos;, &apos;11-2&apos;],  \n",
    "&apos;2&apos;: [&apos;10006&apos;],  \n",
    "&apos;3&apos;: []  \n",
    "}  \n",
    "<br>\n",
    "Общие требования к программе:  \n",
    "- код должен быть грамотно декомпозирован: каждая функция отвечает за  \n",
    "свою конкретную задачу, дублирующиеся функции переиспользуются, а их  \n",
    "код не повторяется;  \n",
    "- в коде отсутствуют глобальные переменные, за исключением documents и  \n",
    "directories;  \n",
    "- пользовательский ввод обрабатывается в цикле while до тех пор, пока  \n",
    "пользователь явно не завершит программу вводом команды «q».  "
   ]
  },
  {
   "cell_type": "markdown",
   "id": "929ab22a-f81b-4013-b057-a759c96b3bda",
   "metadata": {},
   "source": [
    "## Задание 1\n",
    "Пользователь по команде «p» может узнать владельца документа по его номеру.\n",
    "<br>\n",
    "Пример работы программы:  \n",
    "<br>\n",
    "Введите команду:  \n",
    "p  \n",
    "<br>\n",
    "Введите номер документа:  \n",
    "10006  \n",
    "<br>\n",
    "Результат:  \n",
    "Владелец документа: Аристарх Павлов  "
   ]
  },
  {
   "cell_type": "code",
   "execution_count": 14,
   "id": "321bdb93-44f7-45f2-b94e-5ed7fd4e7db2",
   "metadata": {
    "tags": []
   },
   "outputs": [],
   "source": [
    "def get_owner(index: str) -> str:\n",
    "    for doc in documents:\n",
    "        if doc['number'] == index:\n",
    "            owner = doc['name']\n",
    "            return f'Владелец документа: {owner}'\n",
    "    return 'Владелец документа: владелец не найден'\n",
    "\n",
    "def get_directory(index: str) -> str:\n",
    "    for key, val in directories.items():\n",
    "        if index in val:\n",
    "            return f'Документ хранится на полке: {key}'\n",
    "    return 'Документ не найден'\n",
    "    \n",
    "def get_docs() -> None:\n",
    "    while True:\n",
    "        print('Введите команду:')\n",
    "        match input():\n",
    "            case 'q':\n",
    "                return\n",
    "            \n",
    "            case 'p':\n",
    "                print('Введите номер документа:')\n",
    "                print(get_owner(input()))\n",
    "\n",
    "            case 's':\n",
    "                print('Введите номер документа:')\n",
    "                print(get_directory(input()))\n",
    "                      \n",
    "                      \n",
    "documents = [\n",
    "    {'type': 'passport', 'number': '2207 876234',\n",
    "    'name': 'Василий Гупкин'},\n",
    "    {'type': 'invoice', 'number': '11-2',\n",
    "    'name': 'Геннадий Покемонов'},\n",
    "    {'type': 'insurance', 'number': '10006',\n",
    "    'name': 'Аристарх Павлов'}\n",
    "]\n",
    "\n",
    "directories = {\n",
    "    '1': ['2207 876234', '11-2'],\n",
    "    '2': ['10006'],\n",
    "    '3': []\n",
    "}"
   ]
  },
  {
   "cell_type": "code",
   "execution_count": 17,
   "id": "c6527a42-cf1c-489f-ad90-10e7f0c9f819",
   "metadata": {
    "tags": []
   },
   "outputs": [
    {
     "name": "stdout",
     "output_type": "stream",
     "text": [
      "Введите команду:\n"
     ]
    },
    {
     "name": "stdin",
     "output_type": "stream",
     "text": [
      " p\n"
     ]
    },
    {
     "name": "stdout",
     "output_type": "stream",
     "text": [
      "Введите номер документа:\n"
     ]
    },
    {
     "name": "stdin",
     "output_type": "stream",
     "text": [
      " 10006\n"
     ]
    },
    {
     "name": "stdout",
     "output_type": "stream",
     "text": [
      "Владелец документа: Аристарх Павлов\n",
      "Введите команду:\n"
     ]
    },
    {
     "name": "stdin",
     "output_type": "stream",
     "text": [
      " p\n"
     ]
    },
    {
     "name": "stdout",
     "output_type": "stream",
     "text": [
      "Введите номер документа:\n"
     ]
    },
    {
     "name": "stdin",
     "output_type": "stream",
     "text": [
      " 1001\n"
     ]
    },
    {
     "name": "stdout",
     "output_type": "stream",
     "text": [
      "Владелец документа: владелец не найден\n",
      "Введите команду:\n"
     ]
    },
    {
     "name": "stdin",
     "output_type": "stream",
     "text": [
      " q\n"
     ]
    }
   ],
   "source": [
    "get_docs()"
   ]
  },
  {
   "cell_type": "markdown",
   "id": "8505c01a-70c6-4431-93dc-657a0dbe689d",
   "metadata": {},
   "source": [
    "### Задание 2 (не обязательное)\n",
    "Секретарь по команде «s» может по номеру документа узнать, на какой полке документ\n",
    "хранится.\n",
    "<br>\n",
    "\n",
    "#### Пример работы программы:  \n",
    "Введите команду:  \n",
    "s  \n",
    "<br>\n",
    "Введите номер документа:  \n",
    "10006  \n",
    "<br>\n",
    "Результат:  \n",
    "Документ хранится на полке: 2\n"
   ]
  },
  {
   "cell_type": "code",
   "execution_count": 16,
   "id": "06e44593-9857-4564-a0e7-9dea02284cbe",
   "metadata": {
    "tags": []
   },
   "outputs": [
    {
     "name": "stdout",
     "output_type": "stream",
     "text": [
      "Введите команду:\n"
     ]
    },
    {
     "name": "stdin",
     "output_type": "stream",
     "text": [
      " s\n"
     ]
    },
    {
     "name": "stdout",
     "output_type": "stream",
     "text": [
      "Введите номер документа:\n"
     ]
    },
    {
     "name": "stdin",
     "output_type": "stream",
     "text": [
      " 10006\n"
     ]
    },
    {
     "name": "stdout",
     "output_type": "stream",
     "text": [
      "Документ хранится на полке: 2\n",
      "Введите команду:\n"
     ]
    },
    {
     "name": "stdin",
     "output_type": "stream",
     "text": [
      " s\n"
     ]
    },
    {
     "name": "stdout",
     "output_type": "stream",
     "text": [
      "Введите номер документа:\n"
     ]
    },
    {
     "name": "stdin",
     "output_type": "stream",
     "text": [
      " 1001\n"
     ]
    },
    {
     "name": "stdout",
     "output_type": "stream",
     "text": [
      "Документ не найден\n",
      "Введите команду:\n"
     ]
    },
    {
     "name": "stdin",
     "output_type": "stream",
     "text": [
      " q\n"
     ]
    }
   ],
   "source": [
    "get_docs()"
   ]
  },
  {
   "cell_type": "code",
   "execution_count": null,
   "id": "1cceb506-4719-4042-8e50-5199a2c36a23",
   "metadata": {},
   "outputs": [],
   "source": []
  }
 ],
 "metadata": {
  "kernelspec": {
   "display_name": "Python 3 (ipykernel)",
   "language": "python",
   "name": "python3"
  },
  "language_info": {
   "codemirror_mode": {
    "name": "ipython",
    "version": 3
   },
   "file_extension": ".py",
   "mimetype": "text/x-python",
   "name": "python",
   "nbconvert_exporter": "python",
   "pygments_lexer": "ipython3",
   "version": "3.11.5"
  }
 },
 "nbformat": 4,
 "nbformat_minor": 5
}
