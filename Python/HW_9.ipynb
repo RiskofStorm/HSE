{
  "nbformat": 4,
  "nbformat_minor": 0,
  "metadata": {
    "colab": {
      "provenance": []
    },
    "kernelspec": {
      "name": "python3",
      "display_name": "Python 3"
    },
    "language_info": {
      "name": "python"
    }
  },
  "cells": [
    {
      "cell_type": "code",
      "execution_count": null,
      "metadata": {
        "id": "G3lCeqUoSbU-"
      },
      "outputs": [],
      "source": [
        "from pyspark.sql import SparkSession\n",
        "from pyspark.sql.types import StringType, StructType, IntegerType, DateType, StructField, FloatType\n",
        "import pyspark.sql.functions as f"
      ]
    },
    {
      "cell_type": "code",
      "source": [
        "data_path = '/content/movies.csv'"
      ],
      "metadata": {
        "id": "khDqfw3KSew8"
      },
      "execution_count": null,
      "outputs": []
    },
    {
      "cell_type": "code",
      "source": [
        "            # .config(\"spark.jars\", \"postgresql-42.7.4.jar\") \\\n",
        "            # .config(\"spark.jars.packages\", \"org.apache.spark:spark-avro_2.12:3.4.1\") \\"
      ],
      "metadata": {
        "id": "AJXVwSqqS9bJ"
      },
      "execution_count": null,
      "outputs": []
    },
    {
      "cell_type": "code",
      "source": [
        "spark = SparkSession \\\n",
        "            .builder \\\n",
        "            .appName(\"movies_app\") \\\n",
        "            .master(\"local\") \\\n",
        "            .getOrCreate()\n"
      ],
      "metadata": {
        "id": "j5jZjmdfS16D"
      },
      "execution_count": null,
      "outputs": []
    },
    {
      "cell_type": "code",
      "source": [
        "df = spark \\\n",
        "    .read \\\n",
        "    .option(\"header\", \"true\") \\\n",
        "    .option(\"multiline\", \"true\") \\\n",
        "    .option(\"sep\", \";\") \\\n",
        "    .option(\"quote\", \"*\") \\\n",
        "    .option(\"dateFormat\", \"M/d/y\") \\\n",
        "    .option(\"inferSchema\", \"true\") \\\n",
        "    .csv(data_path)"
      ],
      "metadata": {
        "id": "8jGV5pHvS-nl"
      },
      "execution_count": null,
      "outputs": []
    },
    {
      "cell_type": "code",
      "source": [
        "df.show(10,20)"
      ],
      "metadata": {
        "colab": {
          "base_uri": "https://localhost:8080/"
        },
        "id": "8M60ZQbDTHHD",
        "outputId": "7b1718fc-2956-4253-d96f-8f06d0ec72ac"
      },
      "execution_count": null,
      "outputs": [
        {
          "output_type": "stream",
          "name": "stdout",
          "text": [
            "+--------------------------------------------------------------------------------------------+\n",
            "|Film,Genre,Lead Studio,Audience score %,Profitability,Rotten Tomatoes %,Worldwide Gross,Year|\n",
            "+--------------------------------------------------------------------------------------------+\n",
            "|                                                                        Zack and Miri Mak...|\n",
            "|                                                                        Youth in Revolt,C...|\n",
            "|                                                                        You Will Meet a T...|\n",
            "|                                                                        When in Rome,Come...|\n",
            "|                                                                        What Happens in V...|\n",
            "|                                                                        Water For Elephan...|\n",
            "|                                                                        WALL-E,Animation,...|\n",
            "|                                                                        Waitress,Romance,...|\n",
            "|                                                                        Waiting For Forev...|\n",
            "|                                                                        Valentine's Day,C...|\n",
            "+--------------------------------------------------------------------------------------------+\n",
            "only showing top 10 rows\n",
            "\n"
          ]
        }
      ]
    },
    {
      "cell_type": "code",
      "source": [
        "df.printSchema()"
      ],
      "metadata": {
        "colab": {
          "base_uri": "https://localhost:8080/"
        },
        "id": "ECePfraeTK1F",
        "outputId": "ca4249ee-8048-4ddd-cf19-caabd9d716ce"
      },
      "execution_count": null,
      "outputs": [
        {
          "output_type": "stream",
          "name": "stdout",
          "text": [
            "root\n",
            " |-- Film,Genre,Lead Studio,Audience score %,Profitability,Rotten Tomatoes %,Worldwide Gross,Year: string (nullable = true)\n",
            "\n"
          ]
        }
      ]
    },
    {
      "cell_type": "code",
      "source": [
        "schema = StructType([\n",
        "                StructField(\"Film\", StringType(), nullable=True),\n",
        "                StructField(\"Genre\", StringType(), nullable=True),\n",
        "                StructField(\"Lead Studio\", StringType(), nullable=True),\n",
        "                StructField(\"Audience score %\", IntegerType(), nullable=True),\n",
        "                StructField(\"Profitability\", FloatType(), nullable=True),\n",
        "                StructField(\"Rotten Tomatoes %\", IntegerType(), nullable=True),\n",
        "                StructField(\"Worldwide Gross\", StringType(), nullable=True),\n",
        "                StructField(\"Year\", IntegerType(), nullable=True)])"
      ],
      "metadata": {
        "id": "Ts54lv-UTMaO"
      },
      "execution_count": null,
      "outputs": []
    },
    {
      "cell_type": "code",
      "source": [
        "df = spark \\\n",
        "    .read \\\n",
        "    .option(\"header\", \"true\") \\\n",
        "    .option(\"multiline\", \"true\") \\\n",
        "    .option(\"sep\", \",\") \\\n",
        "    .option(\"inferSchema\", \"true\") \\\n",
        "    .schema(schema)\\\n",
        "    .csv(data_path)"
      ],
      "metadata": {
        "id": "I3NmaMiVT3b1"
      },
      "execution_count": null,
      "outputs": []
    },
    {
      "cell_type": "code",
      "source": [
        "df.show(10,20)"
      ],
      "metadata": {
        "colab": {
          "base_uri": "https://localhost:8080/"
        },
        "id": "V9ASwgFQT_EH",
        "outputId": "afbc6b6b-dc8c-4717-cbc7-e45fd6210024"
      },
      "execution_count": null,
      "outputs": [
        {
          "output_type": "stream",
          "name": "stdout",
          "text": [
            "+--------------------+---------+--------------------+----------------+-------------+-----------------+---------------+----+\n",
            "|                Film|    Genre|         Lead Studio|Audience score %|Profitability|Rotten Tomatoes %|Worldwide Gross|Year|\n",
            "+--------------------+---------+--------------------+----------------+-------------+-----------------+---------------+----+\n",
            "|Zack and Miri Mak...|  Romance|The Weinstein Com...|              70|    1.7475417|               64|        $41.94 |2008|\n",
            "|     Youth in Revolt|   Comedy|The Weinstein Com...|              52|         1.09|               68|        $19.62 |2010|\n",
            "|You Will Meet a T...|   Comedy|         Independent|              35|    1.2118182|               43|        $26.66 |2010|\n",
            "|        When in Rome|   Comedy|              Disney|              44|          0.0|               15|        $43.04 |2010|\n",
            "|What Happens in V...|   Comedy|                 Fox|              72|    6.2676473|               28|       $219.37 |2008|\n",
            "| Water For Elephants|    Drama|    20th Century Fox|              72|    3.0814211|               60|       $117.09 |2011|\n",
            "|              WALL-E|Animation|              Disney|              89|     2.896019|               96|       $521.28 |2008|\n",
            "|            Waitress|  Romance|         Independent|              67|    11.089742|               89|        $22.18 |2007|\n",
            "| Waiting For Forever|  Romance|         Independent|              53|        0.005|                6|         $0.03 |2011|\n",
            "|     Valentine's Day|   Comedy|        Warner Bros.|              54|    4.1840386|               17|       $217.57 |2010|\n",
            "+--------------------+---------+--------------------+----------------+-------------+-----------------+---------------+----+\n",
            "only showing top 10 rows\n",
            "\n"
          ]
        }
      ]
    },
    {
      "cell_type": "code",
      "source": [
        "df2 = df.withColumn('world_gross_f',f.regexp_replace('Worldwide Gross', '[$,]', '').cast('double'))\n",
        "df2.show()"
      ],
      "metadata": {
        "colab": {
          "base_uri": "https://localhost:8080/"
        },
        "id": "LEMkFiAkT_yN",
        "outputId": "07149d84-2656-464b-f41f-3048a8539fee"
      },
      "execution_count": null,
      "outputs": [
        {
          "output_type": "stream",
          "name": "stdout",
          "text": [
            "+--------------------+---------+--------------------+----------------+-------------+-----------------+---------------+----+-------------+\n",
            "|                Film|    Genre|         Lead Studio|Audience score %|Profitability|Rotten Tomatoes %|Worldwide Gross|Year|world_gross_f|\n",
            "+--------------------+---------+--------------------+----------------+-------------+-----------------+---------------+----+-------------+\n",
            "|Zack and Miri Mak...|  Romance|The Weinstein Com...|              70|    1.7475417|               64|        $41.94 |2008|        41.94|\n",
            "|     Youth in Revolt|   Comedy|The Weinstein Com...|              52|         1.09|               68|        $19.62 |2010|        19.62|\n",
            "|You Will Meet a T...|   Comedy|         Independent|              35|    1.2118182|               43|        $26.66 |2010|        26.66|\n",
            "|        When in Rome|   Comedy|              Disney|              44|          0.0|               15|        $43.04 |2010|        43.04|\n",
            "|What Happens in V...|   Comedy|                 Fox|              72|    6.2676473|               28|       $219.37 |2008|       219.37|\n",
            "| Water For Elephants|    Drama|    20th Century Fox|              72|    3.0814211|               60|       $117.09 |2011|       117.09|\n",
            "|              WALL-E|Animation|              Disney|              89|     2.896019|               96|       $521.28 |2008|       521.28|\n",
            "|            Waitress|  Romance|         Independent|              67|    11.089742|               89|        $22.18 |2007|        22.18|\n",
            "| Waiting For Forever|  Romance|         Independent|              53|        0.005|                6|         $0.03 |2011|         0.03|\n",
            "|     Valentine's Day|   Comedy|        Warner Bros.|              54|    4.1840386|               17|       $217.57 |2010|       217.57|\n",
            "|Tyler Perry's Why...|  Romance|         Independent|              47|    3.7241924|               46|        $55.86 |2007|        55.86|\n",
            "|Twilight: Breakin...|  Romance|         Independent|              68|    6.3833637|               26|       $702.17 |2011|       702.17|\n",
            "|            Twilight|  Romance|              Summit|              82|    10.180027|               49|       $376.66 |2008|       376.66|\n",
            "|      The Ugly Truth|   Comedy|         Independent|              68|    5.4026318|               14|       $205.30 |2009|        205.3|\n",
            "|The Twilight Saga...|    Drama|              Summit|              78|      14.1964|               27|       $709.82 |2009|       709.82|\n",
            "|The Time Traveler...|    Drama|           Paramount|              65|     2.598205|               38|       $101.33 |2009|       101.33|\n",
            "|        The Proposal|   Comedy|              Disney|              74|       7.8675|               43|       $314.70 |2009|        314.7|\n",
            "|The Invention of ...|   Comedy|        Warner Bros.|              47|    1.7513514|               56|        $32.40 |2009|         32.4|\n",
            "|  The Heartbreak Kid|   Comedy|           Paramount|              41|    2.1294441|               30|       $127.77 |2007|       127.77|\n",
            "|         The Duchess|    Drama|           Paramount|              68|    3.2078502|               60|        $43.31 |2008|        43.31|\n",
            "+--------------------+---------+--------------------+----------------+-------------+-----------------+---------------+----+-------------+\n",
            "only showing top 20 rows\n",
            "\n"
          ]
        }
      ]
    },
    {
      "cell_type": "code",
      "source": [
        "df2.withColumn('words', f.explode(f.split(f.lower(f.col('Film')), ' ')))\\\n",
        "   .groupBy('words')\\\n",
        "   .count()\\\n",
        "   .sort('count', ascending=False)\\\n",
        "   .show(100)"
      ],
      "metadata": {
        "colab": {
          "base_uri": "https://localhost:8080/"
        },
        "id": "xl-wYlkoVRig",
        "outputId": "4ff97ffa-7fcd-401b-a764-4302525df33a"
      },
      "execution_count": null,
      "outputs": [
        {
          "output_type": "stream",
          "name": "stdout",
          "text": [
            "+-----------+-----+\n",
            "|      words|count|\n",
            "+-----------+-----+\n",
            "|        the|   14|\n",
            "|        and|    9|\n",
            "|         of|    6|\n",
            "|          a|    5|\n",
            "|        you|    4|\n",
            "|       love|    4|\n",
            "|         in|    4|\n",
            "|        day|    3|\n",
            "|        for|    3|\n",
            "|       city|    3|\n",
            "|          i|    3|\n",
            "|     juliet|    3|\n",
            "|        sex|    3|\n",
            "|       mia!|    2|\n",
            "|        not|    2|\n",
            "|        new|    2|\n",
            "|     gnomeo|    2|\n",
            "|      mamma|    2|\n",
            "|         me|    2|\n",
            "|    married|    2|\n",
            "|       year|    2|\n",
            "|       just|    2|\n",
            "|         my|    2|\n",
            "|    happens|    2|\n",
            "|         to|    2|\n",
            "|   twilight|    2|\n",
            "|      monte|    1|\n",
            "|      carlo|    1|\n",
            "|     marley|    1|\n",
            "|  fireproof|    1|\n",
            "|        did|    1|\n",
            "|        two|    1|\n",
            "|       miri|    1|\n",
            "|     wright|    1|\n",
            "|   borrowed|    1|\n",
            "|       eyre|    1|\n",
            "|   infinite|    1|\n",
            "|     wall-e|    1|\n",
            "|       moon|    1|\n",
            "|       luck|    1|\n",
            "|       will|    1|\n",
            "|    serious|    1|\n",
            "|       wife|    1|\n",
            "|christmases|    1|\n",
            "|   waitress|    1|\n",
            "|     rachel|    1|\n",
            "|    letters|    1|\n",
            "|      paris|    1|\n",
            "|   universe|    1|\n",
            "|        man|    1|\n",
            "|         3:|    1|\n",
            "|     summer|    1|\n",
            "|       it's|    1|\n",
            "|       he's|    1|\n",
            "|       body|    1|\n",
            "|    wedding|    1|\n",
            "|   playlist|    1|\n",
            "|       four|    1|\n",
            "|        one|    1|\n",
            "|  enchanted|    1|\n",
            "|      porno|    1|\n",
            "|     morris|    1|\n",
            "|      tyler|    1|\n",
            "|       with|    1|\n",
            "| traveler's|    1|\n",
            "|        out|    1|\n",
            "|      lives|    1|\n",
            "|     method|    1|\n",
            "|         27|    1|\n",
            "|       days|    1|\n",
            "|      vegas|    1|\n",
            "|    knocked|    1|\n",
            "|complicated|    1|\n",
            "|    back-up|    1|\n",
            "|      water|    1|\n",
            "|  invention|    1|\n",
            "|valentine's|    1|\n",
            "|       miss|    1|\n",
            "|    killers|    1|\n",
            "|     school|    1|\n",
            "|     family|    1|\n",
            "|      other|    1|\n",
            "|  beginners|    1|\n",
            "|       past|    1|\n",
            "|       when|    1|\n",
            "|       life|    1|\n",
            "|    forever|    1|\n",
            "|   remember|    1|\n",
            "|       p.s.|    1|\n",
            "|  dangerous|    1|\n",
            "|   proposal|    1|\n",
            "|       into|    1|\n",
            "|     revolt|    1|\n",
            "|      going|    1|\n",
            "|         it|    1|\n",
            "|     ghosts|    1|\n",
            "|       dark|    1|\n",
            "|      saga:|    1|\n",
            "| heartbreak|    1|\n",
            "|      youth|    1|\n",
            "+-----------+-----+\n",
            "only showing top 100 rows\n",
            "\n"
          ]
        }
      ]
    },
    {
      "cell_type": "code",
      "source": [],
      "metadata": {
        "id": "Kd0wHwq4XLiU"
      },
      "execution_count": null,
      "outputs": []
    }
  ]
}